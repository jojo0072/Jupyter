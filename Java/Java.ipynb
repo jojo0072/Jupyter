{
 "cells": [
  {
   "cell_type": "markdown",
   "id": "1a44fba7-4189-4530-bae0-befdf301089d",
   "metadata": {},
   "source": [
    "# Java Overview"
   ]
  },
  {
   "cell_type": "markdown",
   "id": "20592879-3e62-4bbc-a32d-cabd49ec422d",
   "metadata": {},
   "source": [
    "**1. Expressions and Operators**"
   ]
  },
  {
   "cell_type": "code",
   "execution_count": 1,
   "id": "8316b0ac-e677-4a9a-96ce-6d058ffb24fe",
   "metadata": {},
   "outputs": [
    {
     "name": "stdout",
     "output_type": "stream",
     "text": [
      "10\n",
      "Ich bin 10 Jahre alt.\n"
     ]
    }
   ],
   "source": [
    "int x=5+5;\n",
    "String k=\"\\nIch bin \" +x+\" Jahre alt.\"; \n",
    "System.out.println(x+k) // java doesnt support comma seperating"
   ]
  },
  {
   "cell_type": "markdown",
   "id": "3c3468ea-d97a-44f5-a462-40e655be47d0",
   "metadata": {},
   "source": [
    "1.1. Arithmetic operators"
   ]
  },
  {
   "cell_type": "code",
   "execution_count": 46,
   "id": "464f1b65-d97e-4d79-940a-5340aaee9471",
   "metadata": {},
   "outputs": [
    {
     "name": "stdout",
     "output_type": "stream",
     "text": [
      "12\n",
      "6\n",
      "32\n",
      "2\n",
      "2\n"
     ]
    }
   ],
   "source": [
    "//1 Addition\n",
    "System.out.println(8+4);\n",
    "    \n",
    "//2 Subtraction\n",
    "System.out.println(9-3);\n",
    "    \n",
    "//3 Multiplication\n",
    "System.out.println(8*4);\n",
    "    \n",
    "//4 Division\n",
    "System.out.println(8/4);\n",
    "\n",
    "//5 Modulus\n",
    "int z=8%3;\n",
    "System.out.println(z);"
   ]
  },
  {
   "cell_type": "markdown",
   "id": "be5fc907-0206-420d-a4f6-c7f153448baf",
   "metadata": {},
   "source": [
    "1.1.1. Increment and decrement"
   ]
  },
  {
   "cell_type": "code",
   "execution_count": 52,
   "id": "ed89f752-b211-4f8d-ae12-7b26039b1d88",
   "metadata": {},
   "outputs": [
    {
     "name": "stdout",
     "output_type": "stream",
     "text": [
      "5\n",
      "98\n"
     ]
    }
   ],
   "source": [
    "int u=4;\n",
    "u++;\n",
    "System.out.println(u);\n",
    "\n",
    "int y=99;\n",
    "y--;\n",
    "System.out.println(y);"
   ]
  },
  {
   "cell_type": "markdown",
   "id": "4b9843d9-96d9-4be2-a9ff-4414528769e4",
   "metadata": {},
   "source": [
    "1.2. Assignement operators"
   ]
  },
  {
   "cell_type": "code",
   "execution_count": 53,
   "id": "f6a6cf5e-d3d3-4969-9e5d-30f35373a1f2",
   "metadata": {},
   "outputs": [
    {
     "name": "stdout",
     "output_type": "stream",
     "text": [
      "6\n",
      "12\n",
      "6\n",
      "36\n",
      "6\n",
      "0\n"
     ]
    }
   ],
   "source": [
    "//1 = \n",
    "int numb=6;\n",
    "\n",
    "System.out.println(numb);\n",
    "\n",
    "//2 +=\n",
    "numb+=6;\n",
    "// same as numb=numb+6;\n",
    "\n",
    "System.out.println(numb);\n",
    "\n",
    "//3 -=\n",
    "numb-=6;\n",
    "// same as numb=numb-6;\n",
    "\n",
    "System.out.println(numb);\n",
    "\n",
    "//4 *=\n",
    "numb*=6;\n",
    "// same as numb=numb*6;\n",
    "\n",
    "System.out.println(numb);\n",
    "\n",
    "//5 /=\n",
    "numb/=6;\n",
    "// same as numb=numb/6\n",
    "\n",
    "System.out.println(numb);\n",
    "\n",
    "//6 %=\n",
    "numb%=6;\n",
    "// same as numb=numb%6\n",
    "\n",
    "System.out.println(numb);"
   ]
  },
  {
   "cell_type": "markdown",
   "id": "e90cc9d4-1fe9-4fb6-a046-7db293003e2f",
   "metadata": {},
   "source": [
    "1.3. Comparision operators"
   ]
  },
  {
   "cell_type": "code",
   "execution_count": 56,
   "id": "a6a2a173-0fc6-43f1-a9e8-8d67644998f6",
   "metadata": {},
   "outputs": [
    {
     "name": "stdout",
     "output_type": "stream",
     "text": [
      "false\n",
      "true\n",
      "false\n",
      "true\n",
      "true\n",
      "true\n"
     ]
    }
   ],
   "source": [
    "//1 equal to\n",
    "System.out.println(6==7);\n",
    "\n",
    "//2 not equal to\n",
    "System.out.println(6!=7);\n",
    "\n",
    "//3 less than\n",
    "System.out.println(7<6);\n",
    "\n",
    "//4 greater than\n",
    "System.out.println(7>6);\n",
    "\n",
    "//5 less than or equal to\n",
    "System.out.println(7<=7);\n",
    "\n",
    "//6 greater than or equal to\n",
    "System.out.println(7>=6);"
   ]
  },
  {
   "cell_type": "markdown",
   "id": "a9e73628-ff79-43c1-b831-e05833da7cf5",
   "metadata": {},
   "source": [
    "1.4. Logical operators"
   ]
  },
  {
   "cell_type": "code",
   "execution_count": 61,
   "id": "0a40c43d-96cc-49fd-a73e-d4788fcd8539",
   "metadata": {},
   "outputs": [
    {
     "name": "stdout",
     "output_type": "stream",
     "text": [
      "false\n",
      "true\n",
      "true\n",
      "false\n",
      "false\n",
      "true\n"
     ]
    }
   ],
   "source": [
    "int p=8;\n",
    "    \n",
    "//1 and\n",
    "System.out.println(p>8 && p < 10);\n",
    "System.out.println(p>7 && p < 10);\n",
    "\n",
    "//2 or\n",
    "System.out.println(p>8 || p < 10);\n",
    "System.out.println(p>9 || p < 0);\n",
    "\n",
    "//3 not\n",
    "System.out.println(!(p>7));\n",
    "System.out.println(!(p>9));"
   ]
  },
  {
   "cell_type": "markdown",
   "id": "ed8734ce-3384-4b05-ae6f-ef542b613d27",
   "metadata": {},
   "source": [
    "1.5. Ternary operator"
   ]
  },
  {
   "cell_type": "code",
   "execution_count": 64,
   "id": "7b05247f-27b0-4e9b-bea5-816675e220e6",
   "metadata": {},
   "outputs": [
    {
     "name": "stdout",
     "output_type": "stream",
     "text": [
      "12\n"
     ]
    }
   ],
   "source": [
    "int a=12;\n",
    "int b=8;    \n",
    "// syntax: condition ? value_if_true : value_if_false;\n",
    "int max=a>b ? a:b;\n",
    "System.out.println(max);"
   ]
  },
  {
   "cell_type": "markdown",
   "id": "247034bd-1d83-472a-b9e3-a90738b27ac9",
   "metadata": {},
   "source": [
    "**2. Variables**"
   ]
  },
  {
   "cell_type": "markdown",
   "id": "d147282f-894e-4545-8abd-857a0a37a3b2",
   "metadata": {},
   "source": [
    "2.1. Primitve Data Types"
   ]
  },
  {
   "cell_type": "markdown",
   "id": "113261e2-9c52-4c67-8db8-7b9a23160b2c",
   "metadata": {},
   "source": [
    "2.1.1. Integer types (byte, short, int, long)"
   ]
  },
  {
   "cell_type": "code",
   "execution_count": 8,
   "id": "7403ad2d-37a2-4a6f-94e0-33b05b7b7f7b",
   "metadata": {},
   "outputs": [],
   "source": [
    "byte c=127; // 8-bit signed two's complement integer, range (-128; 127) ->2**7\n",
    "byte d=-128; // used to save memory in large arrays\n",
    "\n",
    "short e=32767; // 16-bit signed two's complement integer, range(-32768; 32767) ->\n",
    "short f=-32768; //  used to save memory in large arrays -> 2**15\n",
    "\n",
    "int g=2147483647; // 32-bit signed two's complement integer, range(-2147483648; 2147483647) -> 2**31\n",
    "int h=-2147483648;\n",
    "\n",
    "long i=5555555; // 64-bit signed two's complement integer, range -> 2**63\n",
    "long j=-555555;"
   ]
  },
  {
   "cell_type": "markdown",
   "id": "4adfdded-516f-4f63-8b05-c157c82426f0",
   "metadata": {},
   "source": [
    "2.1.2. Floating-point types (float, double)"
   ]
  },
  {
   "cell_type": "code",
   "execution_count": 19,
   "id": "545a3505-213b-43ac-bf87-d5e86b28edfd",
   "metadata": {},
   "outputs": [],
   "source": [
    "float k=788.888888f; // 32-bit floating-point, 6 decimal points\n",
    "float l=-788.888888f; // used to save memory in large arrays\n",
    "\n",
    "double m=33.44444444444; // 64-bit floating-point, 15 decimal points\n",
    "double n=4.999999999999;"
   ]
  },
  {
   "cell_type": "markdown",
   "id": "819bede1-a402-4b96-b4cd-0780215b7cee",
   "metadata": {},
   "source": [
    "2.1.3. Character type (char)"
   ]
  },
  {
   "cell_type": "code",
   "execution_count": 24,
   "id": "03fa8945-d22a-4bf7-ab9a-ee01d038df2a",
   "metadata": {},
   "outputs": [],
   "source": [
    "char o='w'; // single 16-bit unicode character, single quotes !!!\n",
    "char p='§';"
   ]
  },
  {
   "cell_type": "markdown",
   "id": "f517d72c-548a-44b5-94fb-fc2e6abc1aba",
   "metadata": {},
   "source": [
    "2.1.4. Boolean type"
   ]
  },
  {
   "cell_type": "code",
   "execution_count": 25,
   "id": "e68bb891-ad8a-4841-bff1-87ec71b6496b",
   "metadata": {},
   "outputs": [],
   "source": [
    "boolean q=false;\n",
    "boolean r=true;"
   ]
  },
  {
   "cell_type": "markdown",
   "id": "f954da13-37ef-43c3-8550-4372eaef8ece",
   "metadata": {},
   "source": [
    "2.2. Variable Declaration and Initialization"
   ]
  },
  {
   "cell_type": "code",
   "execution_count": 28,
   "id": "58d5e9f7-1a22-4c7d-be36-5bd1bd4926d0",
   "metadata": {},
   "outputs": [],
   "source": [
    "int j; // Declaration\n",
    "j=7777; // Initialization\n",
    "\n",
    "int a =6; // Declaration and initialization ...\n",
    "double d=7.333; // data type variable name=value\n",
    "String g=\"Hey\";"
   ]
  },
  {
   "cell_type": "markdown",
   "id": "090d3a1e-8027-401a-a46c-e0dd2c8ce7dc",
   "metadata": {},
   "source": [
    "2.2.1. Overwriting"
   ]
  },
  {
   "cell_type": "code",
   "execution_count": 26,
   "id": "15504a75-cac3-4b41-a886-ebecf9891328",
   "metadata": {},
   "outputs": [
    {
     "name": "stdout",
     "output_type": "stream",
     "text": [
      "33\n"
     ]
    }
   ],
   "source": [
    "String b = \"New Value\"; \n",
    "//b=3 will get error cuz type String remains unless it's changed\n",
    "int b=33;\n",
    "System.out.println(b);"
   ]
  },
  {
   "cell_type": "markdown",
   "id": "29c6dd3a-3659-4ef1-bf24-3483fc5dd525",
   "metadata": {},
   "source": [
    "2.2.2. Variable Names"
   ]
  },
  {
   "cell_type": "markdown",
   "id": "adea7dc8-3ae7-4ba6-afb2-85d7811d070f",
   "metadata": {},
   "source": [
    "2.2.2.1. Good variable name"
   ]
  },
  {
   "cell_type": "code",
   "execution_count": 28,
   "id": "dea08d76-8635-4e37-be26-0b10457dd77a",
   "metadata": {},
   "outputs": [],
   "source": [
    "String greeting=\"Servus\"; // good description, lowercase"
   ]
  },
  {
   "cell_type": "markdown",
   "id": "ce1045cd-2600-45e7-8f74-662d474c9355",
   "metadata": {},
   "source": [
    "2.2.2.2. Possible variable names"
   ]
  },
  {
   "cell_type": "code",
   "execution_count": 32,
   "id": "0cd67590-db38-4f29-8715-2ee7abdb7161",
   "metadata": {},
   "outputs": [],
   "source": [
    "int hey=88; //one word\n",
    "int jojo8z=77; //numbers,cannot start with number\n",
    "int jojo_r=99; //underscore\n",
    "int Jojo=55; //uppercase\n",
    "//$ is also allowed but not recommended for regular variables"
   ]
  },
  {
   "cell_type": "markdown",
   "id": "901a4246-49ea-47f0-b9bc-d36883005b8d",
   "metadata": {},
   "source": [
    "2.2.2.3. Naming techniques"
   ]
  },
  {
   "cell_type": "markdown",
   "id": "285f5f9e-90a5-4617-8ef1-22f57ecd2052",
   "metadata": {},
   "source": [
    "Pascal Case"
   ]
  },
  {
   "cell_type": "code",
   "execution_count": 36,
   "id": "574136b5-4278-40b8-9886-7ac8bd997dba",
   "metadata": {},
   "outputs": [],
   "source": [
    "double MyNewHeight=1.70; //standard for class names"
   ]
  },
  {
   "cell_type": "markdown",
   "id": "653c0a13-5e88-44c8-81c2-eac5fdd410c0",
   "metadata": {},
   "source": [
    "Camel Case"
   ]
  },
  {
   "cell_type": "code",
   "execution_count": 38,
   "id": "0e5bfb61-3da1-4489-a26d-419dc894c54b",
   "metadata": {},
   "outputs": [],
   "source": [
    "double myNewHeight=1.70; //standard for everything(variables, methods...)"
   ]
  },
  {
   "cell_type": "markdown",
   "id": "3881e3bf-ca95-4a81-a001-dda82a9a5cf5",
   "metadata": {},
   "source": [
    "2.3. Variable Scope and lifetime"
   ]
  },
  {
   "cell_type": "code",
   "execution_count": null,
   "id": "2cc4e1f7-c242-4d80-9788-7bddbc60f5b1",
   "metadata": {},
   "outputs": [],
   "source": [
    "// later"
   ]
  },
  {
   "cell_type": "markdown",
   "id": "cf61516d-df1b-4bf1-9059-64f9ed444b2f",
   "metadata": {},
   "source": [
    "2.4. Type Conversion and Casting ?? later"
   ]
  },
  {
   "cell_type": "code",
   "execution_count": 40,
   "id": "ac0b16c7-d71f-4766-ab2c-8dad9503df5a",
   "metadata": {},
   "outputs": [],
   "source": [
    "String strcas = String.valueOf(\"Goofy\"); // Converting to String\n",
    "\n",
    "int intcas = (int) 8; // Casting to int (no direct equivalent for complex)\n",
    "int intFromDouble = (int) 3.14; // Explicit casting from double to int (truncates)\n",
    "\n",
    "java.util.List<String> listcas = new java.util.ArrayList<>(java.util.Arrays.asList(\"apple\", \"banana\", \"cherry\")); // Converting from something similar to a tuple to a List\n",
    "\n",
    "java.util.Map<String, Object> dictcas = new java.util.HashMap<>(); // Dictionary equivalent (Map in Java)\n",
    "dictcas.put(\"name\", \"John\");\n",
    "dictcas.put(\"age\", 44);\n",
    "\n",
    "boolean boolcas = 9 != 0; // Converting to boolean (any non-zero number is true in Python)\n",
    "\n",
    "byte[] memoryviewcas = new byte[4]; // Similar concept of a sequence of bytes"
   ]
  },
  {
   "cell_type": "code",
   "execution_count": null,
   "id": "3eed652b-8b97-472f-89bc-a985c75918d1",
   "metadata": {},
   "outputs": [],
   "source": []
  },
  {
   "cell_type": "code",
   "execution_count": null,
   "id": "0d73da09-2cc2-4b23-aee6-c4dfa7a7ccdf",
   "metadata": {},
   "outputs": [],
   "source": []
  },
  {
   "cell_type": "markdown",
   "id": "eb156994-7ab3-4f39-9e1e-ba0b06239047",
   "metadata": {},
   "source": [
    "2.5. String class (non-primitive data type)"
   ]
  },
  {
   "cell_type": "markdown",
   "id": "80c61573-ea08-4a58-8627-a01ce0427805",
   "metadata": {},
   "source": [
    "2.5.1. String literals"
   ]
  },
  {
   "cell_type": "code",
   "execution_count": 42,
   "id": "9971b466-a782-4daf-a5cf-e63aa66d02f8",
   "metadata": {},
   "outputs": [
    {
     "name": "stdout",
     "output_type": "stream",
     "text": [
      "true\n"
     ]
    }
   ],
   "source": [
    "String s=\"hallo\";// sequence of characters, Strings are instances of the String class, double quotes\n",
    "String jj=new String(\"Hello\");\n",
    "\n",
    "String s1 = \"Hello\"; \n",
    "String s2 = \"Hello\";\n",
    "System.out.println(s1 == s2); // true (same pool reference)"
   ]
  },
  {
   "cell_type": "markdown",
   "id": "84300f4a-9407-4bb8-a92e-41af6eac2ef3",
   "metadata": {},
   "source": [
    "2.5.2. String concatenation"
   ]
  },
  {
   "cell_type": "code",
   "execution_count": 41,
   "id": "b9a7d962-8a51-4de7-b3cb-fc35859575fa",
   "metadata": {},
   "outputs": [
    {
     "name": "stdout",
     "output_type": "stream",
     "text": [
      "HelloWorld! World!HelloWorld!World!\n",
      "HelloWorld! World!\n"
     ]
    }
   ],
   "source": [
    "String t=\"World!\"; \n",
    "String v=s1+\" \"+t;\n",
    "\n",
    "String x=s1.concat(t); // using concat method\n",
    "\n",
    "System.out.println(v+x); // don't use \",\"\n",
    "\n",
    "s1+=\" World!\";\n",
    "System.out.println(s1);"
   ]
  },
  {
   "cell_type": "markdown",
   "id": "64fd01a9-8a61-41fd-b4d3-e4b721276b02",
   "metadata": {},
   "source": [
    "2.5.3. String methods"
   ]
  },
  {
   "cell_type": "code",
   "execution_count": 74,
   "id": "25bb19f7-c685-48fd-8f4c-9f0b6eb271cd",
   "metadata": {},
   "outputs": [
    {
     "name": "stdout",
     "output_type": "stream",
     "text": [
      "13\n",
      "G\n",
      "eksFo\n",
      "false\n",
      "geeksforgeeks\n",
      "GEEKSFORGEEKS\n",
      "true\n",
      "true\n",
      "false\n",
      "0\n",
      "8\n",
      "GeeksForGeeks\n",
      "MeeksForMeeks\n",
      "Geeks\n",
      "orGeeks\n",
      "false\n",
      "true\n",
      "GeeksForGeeks\n",
      "GEEKSFORGEEKS\n"
     ]
    }
   ],
   "source": [
    "String pp=\"GeeksForGeeks\";\n",
    "\n",
    "System.out.println(pp.length());\n",
    "\n",
    "System.out.println(pp.charAt(0)); // char at index\n",
    "\n",
    "System.out.println(pp.substring(2, 7)); // start, stop of substring\n",
    "\n",
    "System.out.println(pp.equals(\"GeeksForMeeks\")); // check if string equals arg\n",
    "\n",
    "System.out.println(pp.toLowerCase()); // convert to lower case\n",
    "\n",
    "System.out.println(pp.toUpperCase()); // convert to upper case\n",
    "\n",
    "System.out.println(pp.contains(\"Geeks\")); // true if arg exists in string\n",
    "\n",
    "System.out.println(pp.startsWith(\"Geek\")); // true if string starts with arg\n",
    "\n",
    "System.out.println(pp.endsWith(\"Geek\")); // true if string ends with arg\n",
    "\n",
    "System.out.println(pp.indexOf(\"Geek\"));\n",
    "\n",
    "System.out.println(pp.lastIndexOf(\"Geek\"));\n",
    "\n",
    "System.out.println(pp.trim()); // removes leading, trailing spaces\n",
    "\n",
    "System.out.println(pp.replace(\"Geek\", \"Meek\")); //replace all chars or substrings\n",
    "\n",
    "String[] kk=pp.split(\"F\"); // split splits string by delimeter/regex, returns array of strings\n",
    "for (String k:kk){\n",
    "    System.out.println(k);\n",
    "}\n",
    "\n",
    "System.out.println(pp.isEmpty()); // check if string is empty\n",
    "\n",
    "System.out.println(pp.matches(\"\\\\w+\")); // check if string matches regex  inv\n",
    "\n",
    "System.out.println(pp); // all of this didn't change the object, cuz strings are immutable\n",
    "pp=pp.toUpperCase(); //every operation with strings will return a new string object\n",
    "System.out.println(pp);"
   ]
  },
  {
   "cell_type": "markdown",
   "id": "0125dd8b-6d71-4b00-b45d-06ba77212f2b",
   "metadata": {},
   "source": [
    "**3. Control Flow**"
   ]
  },
  {
   "cell_type": "markdown",
   "id": "d0afa8f0-de65-4a6e-818e-cba56e5bf199",
   "metadata": {},
   "source": [
    "3.1. Conditional statements"
   ]
  },
  {
   "cell_type": "markdown",
   "id": "23070b6f-dde5-467f-a4ee-6e7fe055ad71",
   "metadata": {},
   "source": [
    "3.1.1. if statement"
   ]
  },
  {
   "cell_type": "code",
   "execution_count": 93,
   "id": "212d052e-6697-4ff6-a14b-a645af59369e",
   "metadata": {},
   "outputs": [
    {
     "name": "stdout",
     "output_type": "stream",
     "text": [
      "Correct\n",
      "7\n"
     ]
    }
   ],
   "source": [
    "int x=8;\n",
    "if(x==8){ // without curly brackets only the first line is inside if\n",
    "    System.out.println(\"Correct\");\n",
    "    if (!(x>9)) // nested if\n",
    "        System.out.println(7);\n",
    "}"
   ]
  },
  {
   "cell_type": "markdown",
   "id": "d3b65a2f-8bed-455c-89fc-7a9d23c52787",
   "metadata": {},
   "source": [
    "3.1.2. if-else statement"
   ]
  },
  {
   "cell_type": "code",
   "execution_count": 90,
   "id": "51c84a29-5474-420c-88a6-62850c200c39",
   "metadata": {},
   "outputs": [
    {
     "name": "stdout",
     "output_type": "stream",
     "text": [
      "8.5\n"
     ]
    }
   ],
   "source": [
    "float w=8.5f;\n",
    "if (w<x){\n",
    "    System.out.println(x);\n",
    "} else{\n",
    "    System.out.println(w);\n",
    "}"
   ]
  },
  {
   "cell_type": "markdown",
   "id": "73391520-3be5-41a1-b6ea-e7ce3c50b461",
   "metadata": {},
   "source": [
    "3.1.3. if-else-if statement"
   ]
  },
  {
   "cell_type": "code",
   "execution_count": 96,
   "id": "be52695b-4c53-402d-b711-b6a297c34f92",
   "metadata": {},
   "outputs": [
    {
     "name": "stdout",
     "output_type": "stream",
     "text": [
      "Case 3\n"
     ]
    }
   ],
   "source": [
    "String tt=\"Peter\";\n",
    "\n",
    "if(tt.startsWith(\"L\")){\n",
    "    System.out.println(\"Case 1\");\n",
    "} else if(tt.contains(\"w\")){\n",
    "    System.out.println(\"Case 2\");\n",
    "} else{\n",
    "    System.out.println(\"Case 3\");\n",
    "}"
   ]
  },
  {
   "cell_type": "markdown",
   "id": "51ce8590-ef84-4a08-947d-32a3d3f13572",
   "metadata": {},
   "source": [
    "3.1.4. switch statement"
   ]
  },
  {
   "cell_type": "code",
   "execution_count": 102,
   "id": "d427c3a8-60c7-404f-a836-b925aa70bdf4",
   "metadata": {},
   "outputs": [
    {
     "name": "stdout",
     "output_type": "stream",
     "text": [
      "It is 33\n"
     ]
    }
   ],
   "source": [
    "int jj=33;\n",
    "// switch is more handy for direct value matching\n",
    "switch(jj){ // expression can be byte, short, int, char, enumeration, String\n",
    "    case 3:\n",
    "        System.out.println(\"It is 3\");\n",
    "        break; // necessary, otherwise statements can be true multiple times\n",
    "    case 33:\n",
    "        System.out.println(\"It is 33\");\n",
    "        break; // after, continues to next statement\n",
    "    case 333:\n",
    "        System.out.println(\"It is 333\");\n",
    "        break;\n",
    "}"
   ]
  },
  {
   "cell_type": "markdown",
   "id": "8c7e2639-b8b3-4b50-860d-92fc78a5cf64",
   "metadata": {},
   "source": [
    "3.2. Looping statements"
   ]
  },
  {
   "cell_type": "markdown",
   "id": "8dd72f46-45ea-4c7a-89a0-739872e0ae2f",
   "metadata": {},
   "source": [
    "3.2.1. for loop"
   ]
  },
  {
   "cell_type": "code",
   "execution_count": 118,
   "id": "b18734d1-4189-44b7-8d84-30479039e1fd",
   "metadata": {},
   "outputs": [
    {
     "name": "stdout",
     "output_type": "stream",
     "text": [
      "1\n",
      "2\n",
      "3\n",
      "4\n",
      "5\n",
      "6\n",
      "7\n",
      "8\n",
      "9\n",
      "10\n",
      "Name: Sweta\n",
      "Name: Gudly\n",
      "Name: Amiya\n"
     ]
    }
   ],
   "source": [
    "for (int k=1; k<=10; k++){  // (initialization; condition; increment/decrement) \n",
    "    System.out.println(k);\n",
    "}\n",
    "\n",
    "String[] names = { \"Sweta\", \"Gudly\", \"Amiya\" };\n",
    "// enhanced for loop\n",
    "for (String name : names) { //(dataType variable : arrayOrCollection) \n",
    "    System.out.println(\"Name: \" + name);\n",
    "}"
   ]
  },
  {
   "cell_type": "markdown",
   "id": "7a04be58-c80d-4195-95cc-54620fe02167",
   "metadata": {},
   "source": [
    "3.2.2. while loop"
   ]
  },
  {
   "cell_type": "code",
   "execution_count": 2,
   "id": "b47728b1-052b-45ab-bd18-bc2bb7227188",
   "metadata": {},
   "outputs": [
    {
     "name": "stdout",
     "output_type": "stream",
     "text": [
      "8\n",
      "7\n",
      "6\n",
      "5\n",
      "4\n",
      "3\n",
      "2\n",
      "1\n",
      "0\n"
     ]
    }
   ],
   "source": [
    "int x=9;\n",
    "\n",
    "while(x>0){ // (condition) \n",
    "    x--; \n",
    "    System.out.println(x);\n",
    "}"
   ]
  },
  {
   "cell_type": "markdown",
   "id": "5d23b095-250c-483a-a3b6-f4136d8ca6e7",
   "metadata": {},
   "source": [
    "3.2.3. do-while loop"
   ]
  },
  {
   "cell_type": "code",
   "execution_count": null,
   "id": "b583b118-20ff-41cb-af8d-7bbc7d9845f7",
   "metadata": {},
   "outputs": [],
   "source": [
    "// do-while loop ensures that loop executes min once before checking condition"
   ]
  },
  {
   "cell_type": "code",
   "execution_count": 4,
   "id": "e08dc556-275b-418b-8a35-beb17c9358ce",
   "metadata": {},
   "outputs": [
    {
     "name": "stdout",
     "output_type": "stream",
     "text": [
      "0\n",
      "1\n",
      "2\n",
      "3\n",
      "4\n",
      "5\n",
      "6\n",
      "7\n",
      "8\n",
      "9\n",
      "10\n"
     ]
    }
   ],
   "source": [
    " int i = 0;\n",
    "do {\n",
    "    System.out.print(i+\"\\n\");\n",
    "    i++;\n",
    "} while (i <= 10);"
   ]
  },
  {
   "cell_type": "markdown",
   "id": "46b0c185-94cd-42dd-afca-7db03a57a66e",
   "metadata": {},
   "source": [
    "3.3. Branching Statements"
   ]
  },
  {
   "cell_type": "markdown",
   "id": "ef1f819b-57c4-4ed7-8a34-edd11fbd4ff0",
   "metadata": {},
   "source": [
    "3.3.1. break statement"
   ]
  },
  {
   "cell_type": "code",
   "execution_count": 10,
   "id": "89b9bf6b-24b2-40fb-8f02-507e5244f674",
   "metadata": {},
   "outputs": [
    {
     "name": "stdout",
     "output_type": "stream",
     "text": [
      "1\n",
      "2\n",
      "1\n",
      "2\n"
     ]
    }
   ],
   "source": [
    "for (int i = 1; i <= 5; i++) {\n",
    "    if (i == 3) break;\n",
    "    System.out.println(i);\n",
    "}\n",
    "// equal\n",
    "for (int i = 1; i <= 5; i++) {\n",
    "    if (i == 3) {        \n",
    "        break;        \n",
    "    }\n",
    "    System.out.println(i);\n",
    "}"
   ]
  },
  {
   "cell_type": "markdown",
   "id": "257b763a-b6a1-4877-8b76-6824ac1b1632",
   "metadata": {},
   "source": [
    "3.3.2. continue statement"
   ]
  },
  {
   "cell_type": "code",
   "execution_count": 8,
   "id": "a7ec9d02-eb5a-4cd0-8aff-f3adc3fbb898",
   "metadata": {},
   "outputs": [
    {
     "name": "stdout",
     "output_type": "stream",
     "text": [
      "1\n",
      "2\n",
      "4\n",
      "5\n"
     ]
    }
   ],
   "source": [
    "int i = 0;\n",
    "while (i<5) { \n",
    "    i++;\n",
    "    if (i == 3) continue; \n",
    "    System.out.println(i);   \n",
    "}"
   ]
  },
  {
   "cell_type": "markdown",
   "id": "08b4feb1-f6bc-4093-8fcc-0ddb40868d4b",
   "metadata": {},
   "source": [
    "**4. Objects and Classes**"
   ]
  },
  {
   "cell_type": "markdown",
   "id": "b42e2656-fe71-456b-94c6-5f905d69f0a4",
   "metadata": {},
   "source": [
    "4.1. Basics Object-Oriented Programming (OOP)"
   ]
  },
  {
   "cell_type": "code",
   "execution_count": 9,
   "id": "614f4c7b-f3f1-4193-ab30-0dec62333a9b",
   "metadata": {},
   "outputs": [],
   "source": [
    "/*[access_modifier] class ClassName { // access modifiers: public, private, protected\n",
    "    \n",
    "    // Fields (variables)\n",
    "    type fieldName;\n",
    "    \n",
    "    // Constructor(s)\n",
    "    public ClassName(parameters) {\n",
    "        // initialize fields\n",
    "    }\n",
    "\n",
    "    // Methods\n",
    "    [access_modifier] returnType methodName(parameters) {\n",
    "        // method body\n",
    "    }\n",
    "\n",
    "    // Optional: main method (for testing or running)\n",
    "    public static void main(String[] args) {\n",
    "        // create objects, call methods, etc.\n",
    "    }\n",
    "}*/\n",
    "\n",
    "\n",
    "public class Car { // public class is always file name, one public class/file\n",
    "    // Fields (attributes)\n",
    "    String brand;\n",
    "    int year;\n",
    "\n",
    "    // Constructor\n",
    "    public Car(String brand, int y) {\n",
    "        this.brand = brand; // this keyword refers to the value of parameter instead of parameter\n",
    "        year = y; // no conflict cuz parameter and attribute are different\n",
    "    }\n",
    "\n",
    "    // Method (behavior)\n",
    "    public void drive() { // use void when no return value\n",
    "        System.out.println(brand + \" is driving!\");\n",
    "    }\n",
    "\n",
    "    // Main method to test it\n",
    "    public static void main(String[] args) {\n",
    "        Car myCar = new Car(\"Toyota\", 2020);\n",
    "        myCar.drive();  // Output: Toyota is driving!\n",
    "    }\n",
    "}\n"
   ]
  },
  {
   "cell_type": "code",
   "execution_count": 10,
   "id": "d5c9640f-5fd5-4a29-89be-33f30b735f1c",
   "metadata": {},
   "outputs": [],
   "source": [
    "// Java Program to Demonstrate the \n",
    "// use of a class with instance variable \n",
    "\n",
    "// Class Declaration\n",
    "public class Dog {\n",
    "  \n",
    "    // Instance Variables\n",
    "    String name;\n",
    "    String breed;\n",
    "    int age;\n",
    "    String color;\n",
    "\n",
    "    // Constructor Declaration of Class\n",
    "    public Dog(String name, String breed, int age,\n",
    "               String color)\n",
    "    {\n",
    "        this.name = name;\n",
    "        this.breed = breed;\n",
    "        this.age = age;\n",
    "        this.color = color;\n",
    "    }\n",
    "\n",
    "    // method 1\n",
    "    public String getName() { \n",
    "      return name; \n",
    "    }\n",
    "\n",
    "    // method 2\n",
    "    public String getBreed() { \n",
    "      return breed; \n",
    "    }\n",
    "\n",
    "    // method 3\n",
    "    public int getAge() { \n",
    "      return age; \n",
    "    }\n",
    "\n",
    "    // method 4\n",
    "    public String getColor() { \n",
    "      return color; \n",
    "    }\n",
    "\n",
    "    @Override public String toString()\n",
    "    {\n",
    "        return (\"Name is: \" + this.getName() // use this keyword to call class methods\n",
    "                + \"\\nBreed, age, and color are: \"\n",
    "                + this.getBreed() + \",\" + this.getAge()\n",
    "                + \",\" + this.getColor());\n",
    "    }\n",
    "\n",
    "    public static void main(String[] args)\n",
    "    {\n",
    "        Dog tuffy= new Dog(\"tuffy\", \"papillon\", 5, \"white\");\n",
    "        System.out.println(tuffy.toString());\n",
    "    }\n",
    "}"
   ]
  },
  {
   "cell_type": "code",
   "execution_count": 11,
   "id": "8ed8b7e6-1996-41df-bdc3-cdccd51ee4df",
   "metadata": {},
   "outputs": [],
   "source": [
    "public class Student {\n",
    "    // Static variable - shared across all students\n",
    "    static int totalStudents = 0;\n",
    "\n",
    "    // Instance (non-static) variables - unique per student\n",
    "    String name;\n",
    "    int id;\n",
    "\n",
    "    // Constructor - called when a new object is created\n",
    "    public Student(String name, int id) {\n",
    "        this.name = name;\n",
    "        this.id = id;\n",
    "        totalStudents++;  // Increase shared count\n",
    "    }\n",
    "\n",
    "    // Instance method - can access both static and non-static members\n",
    "    public void displayInfo() {\n",
    "        System.out.println(\"Name: \" + name + \", ID: \" + id);\n",
    "    }\n",
    "\n",
    "    // Static method - can only access static members\n",
    "    public static void showTotalStudents() {\n",
    "        System.out.println(\"Total students: \" + totalStudents);\n",
    "    }\n",
    "\n",
    "    // Main method to test\n",
    "    public static void main(String[] args) {\n",
    "        Student s1 = new Student(\"Alice\", 101);\n",
    "        Student s2 = new Student(\"Bob\", 102);\n",
    "\n",
    "        s1.displayInfo();\n",
    "        s2.displayInfo();\n",
    "\n",
    "        Student.showTotalStudents();  // Accessing static method\n",
    "    }\n",
    "}\n"
   ]
  },
  {
   "cell_type": "code",
   "execution_count": null,
   "id": "51f61c44-1acc-4853-b82e-bdb9699718da",
   "metadata": {},
   "outputs": [],
   "source": []
  },
  {
   "cell_type": "code",
   "execution_count": null,
   "id": "a08345ae-8b3a-4c7d-866c-1c66677c1290",
   "metadata": {},
   "outputs": [],
   "source": []
  },
  {
   "cell_type": "code",
   "execution_count": null,
   "id": "0a0f4112-f915-4512-94c6-2ae66fcb1dc1",
   "metadata": {},
   "outputs": [],
   "source": []
  },
  {
   "cell_type": "code",
   "execution_count": null,
   "id": "d998c20a-7c5f-4c8d-a1d7-61a88038eda1",
   "metadata": {},
   "outputs": [],
   "source": []
  },
  {
   "cell_type": "markdown",
   "id": "0fbeb761-4763-447b-bab0-7703ba44536a",
   "metadata": {},
   "source": [
    "**5. Arrays**"
   ]
  },
  {
   "cell_type": "code",
   "execution_count": null,
   "id": "2ce28d89-713c-4d21-89bd-529a639a8615",
   "metadata": {},
   "outputs": [],
   "source": [
    " // 1. Declare and initialize an array\n",
    "        int[] numbers = {10, 20, 30, 40, 50};\n",
    "\n",
    "        // 2. Accessing elements by index\n",
    "        System.out.println(\"First element: \" + numbers[0]);       // 10\n",
    "        System.out.println(\"Last element: \" + numbers[numbers.length - 1]); // 50"
   ]
  }
 ],
 "metadata": {
  "kernelspec": {
   "display_name": "Java",
   "language": "java",
   "name": "java"
  },
  "language_info": {
   "codemirror_mode": "java",
   "file_extension": ".jshell",
   "mimetype": "text/x-java-source",
   "name": "Java",
   "pygments_lexer": "java",
   "version": "21.0.7+6-LTS"
  }
 },
 "nbformat": 4,
 "nbformat_minor": 5
}
