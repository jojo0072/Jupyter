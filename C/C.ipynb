{
 "cells": [
  {
   "cell_type": "markdown",
   "id": "ecfc8518-cb87-44d9-ac75-a2563eb29774",
   "metadata": {},
   "source": [
    "# C - Overview"
   ]
  },
  {
   "cell_type": "markdown",
   "id": "21a31ce3-5b0b-4ecb-9850-b64b4b9cb0ac",
   "metadata": {},
   "source": [
    "**1. C-Basics**"
   ]
  },
  {
   "cell_type": "markdown",
   "id": "60d76649-43ff-4819-bb0e-7803f3a17485",
   "metadata": {},
   "source": [
    "1.1. Structure of a C program"
   ]
  },
  {
   "cell_type": "code",
   "execution_count": null,
   "id": "b50b8f56-25ff-4ea2-8787-863933f64cb9",
   "metadata": {},
   "outputs": [],
   "source": [
    "#include<stdio.h> // Header with header file for core output\n",
    "int main(void) // Main. method declaration; return_type main(int argc, char *argv[])\n",
    "{ // body\n",
    "\tprintf(\"Hello World\"); // statement   (printf() displays the string inside quotation)\n",
    "\treturn 0; // return statement\n",
    "}"
   ]
  },
  {
   "cell_type": "code",
   "execution_count": null,
   "id": "c6fd8aec-d0fb-4e1d-894e-8cbfc5a1cc82",
   "metadata": {},
   "outputs": [],
   "source": [
    "// header files\n",
    "\n",
    "/*stddef.h – Defines several useful types and macros.\n",
    "stdint.h – Defines exact width integer types.\n",
    "stdio.h – Defines core input and output functions\n",
    "stdlib.h – Defines numeric conversion functions, pseudo-random number generator, and memory allocation\n",
    "string.h – Defines string handling functions\n",
    "math.h – Defines common mathematical functions.*/"
   ]
  },
  {
   "cell_type": "code",
   "execution_count": null,
   "id": "77ceb843-c0b0-46cf-bc03-42345c24b20b",
   "metadata": {},
   "outputs": [],
   "source": [
    "#include <stdio.h>\n",
    "int main() {\n",
    "   // printf() displays the string inside quotation\n",
    "   printf(\"Hello, World!\");\n",
    "   return 0;\n",
    "}\n"
   ]
  },
  {
   "cell_type": "code",
   "execution_count": null,
   "id": "eb1c9284-bcde-45c0-b5cd-a34650f713f8",
   "metadata": {},
   "outputs": [],
   "source": [
    "// 1\n",
    "\n",
    "/*\n",
    "// Structure of every C-program\n",
    "#include<stdio.h> // Header with header file for core output\n",
    "int main(void) // Main. method declaration; return_type main(int argc, char *argv[])\n",
    "{ // body\n",
    "\tprintf(\"Hello World\"); // statement\n",
    "\treturn 0; // return statement\n",
    "}\n",
    "*/\n",
    "/*stddef.h – Defines several useful types and macros.\n",
    "stdint.h – Defines exact width integer types.\n",
    "stdio.h – Defines core input and output functions\n",
    "stdlib.h – Defines numeric conversion functions, pseudo-random number generator, and memory allocation\n",
    "string.h – Defines string handling functions\n",
    "math.h – Defines common mathematical functions.*/\n",
    "\n",
    "// int main (void) or int main() means method takes no arguments\n",
    "// main(){} or void main(){} or main(void){} or void main(void){}; void return_type means main method returns nothing (not recommended)\n",
    "\n",
    "#include <stdio.h>\n",
    "int main(){\n",
    "\tint a=3, b=5;\n",
    "\tint sum =a+b;\n",
    "\tprintf(\"%d\",sum);\n",
    "\treturn 0;\n",
    "}"
   ]
  },
  {
   "cell_type": "code",
   "execution_count": null,
   "id": "d3020284-5ac5-44c8-b2e3-f93bda71ece8",
   "metadata": {},
   "outputs": [],
   "source": []
  },
  {
   "cell_type": "code",
   "execution_count": null,
   "id": "2a83ebbc-db5a-46ea-b41c-8218b4bd172f",
   "metadata": {},
   "outputs": [],
   "source": []
  }
 ],
 "metadata": {
  "kernelspec": {
   "display_name": "C",
   "language": "c",
   "name": "c"
  },
  "language_info": {
   "file_extension": ".c",
   "mimetype": "text/plain",
   "name": "c"
  }
 },
 "nbformat": 4,
 "nbformat_minor": 5
}
