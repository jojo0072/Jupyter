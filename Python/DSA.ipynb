{
 "cells": [
  {
   "cell_type": "markdown",
   "id": "b0170036-ec5d-4afc-a3d7-dbad28b0b610",
   "metadata": {},
   "source": [
    "**1. List**"
   ]
  },
  {
   "cell_type": "code",
   "execution_count": 24,
   "id": "a49efcac-de8f-49c0-99f0-f7a5bc6684af",
   "metadata": {},
   "outputs": [
    {
     "name": "stdout",
     "output_type": "stream",
     "text": [
      "1\n",
      "3\n",
      "5\n",
      "2\n",
      "5\n",
      "5\n",
      "[4, 5, 4, 3, 2, 1]\n"
     ]
    },
    {
     "data": {
      "text/plain": [
       "False"
      ]
     },
     "execution_count": 24,
     "metadata": {},
     "output_type": "execute_result"
    }
   ],
   "source": [
    "# list -> dynamic array, ordered, references of objects\n",
    "arr=[1, 2, 3, 4, 5, 4]\n",
    "for n,i in enumerate(arr): # alternate order\n",
    "    if n%2==0: print(i) \n",
    "\n",
    "x=3\n",
    "print(arr.index(x)) if x in arr else print(-1) # search for item\n",
    "\n",
    "print(max(arr)) # biggest element\n",
    "print(sorted(arr)[-1])\n",
    "\n",
    "print(arr[::-1]) # reverse list\n",
    "\n",
    "True if arr==sorted(arr) else False # check if array is sorted"
   ]
  },
  {
   "cell_type": "code",
   "execution_count": 25,
   "id": "e1aaeb61-9f06-41bc-8aee-8c5004f275c9",
   "metadata": {},
   "outputs": [],
   "source": [
    "# searching algorithms\n",
    "# sorting algorithms"
   ]
  },
  {
   "cell_type": "markdown",
   "id": "72d6d943-fdee-4429-9611-36d6e62cef53",
   "metadata": {},
   "source": [
    "**String**"
   ]
  },
  {
   "cell_type": "code",
   "execution_count": 27,
   "id": "28a39b54-ba2d-4902-bd63-28a737b6852f",
   "metadata": {},
   "outputs": [
    {
     "name": "stdout",
     "output_type": "stream",
     "text": [
      "Hello Geeks\n"
     ]
    }
   ],
   "source": [
    "s = \"Hello Geeks\" # immutable\n",
    "print(s)"
   ]
  },
  {
   "cell_type": "markdown",
   "id": "cc9b94c9-bcf6-4316-979f-e6ae536bd3b8",
   "metadata": {},
   "source": [
    "**Set**"
   ]
  },
  {
   "cell_type": "code",
   "execution_count": 29,
   "id": "baf1f942-7782-4e54-b372-660812db8837",
   "metadata": {},
   "outputs": [
    {
     "name": "stdout",
     "output_type": "stream",
     "text": [
      "{'GfG', 10, 20, True}\n"
     ]
    }
   ],
   "source": [
    "a = {10, 20, 20, \"GfG\", \"GfG\", True, True} # unordered, unique, can add\n",
    "print(a)"
   ]
  },
  {
   "cell_type": "markdown",
   "id": "1e08afed-ca95-414f-82e0-8afacf82885a",
   "metadata": {},
   "source": [
    "**Dictionary**"
   ]
  },
  {
   "cell_type": "code",
   "execution_count": 30,
   "id": "43ea75c1-9c80-4c77-8f3b-7e35f3c04c5e",
   "metadata": {},
   "outputs": [
    {
     "name": "stdout",
     "output_type": "stream",
     "text": [
      "{10: 'hello', 20: 'geek', 'hello': 'world', 2.0: 55}\n"
     ]
    }
   ],
   "source": [
    "# Creating a Dictionary\n",
    "d = {10 : \"hello\", 20 : \"geek\", \"hello\" : \"world\", 2.0 : 55} \n",
    "# mutable, unordered, key-value, unique, immutable keys\n",
    "print(d)"
   ]
  },
  {
   "cell_type": "code",
   "execution_count": 31,
   "id": "4c37baee-3d50-4fae-8e22-71c8f5476be0",
   "metadata": {},
   "outputs": [],
   "source": [
    "# Recursion"
   ]
  },
  {
   "cell_type": "markdown",
   "id": "a893cbf3-4aa7-4081-83d2-a9431cd9528f",
   "metadata": {},
   "source": [
    "**Stack**"
   ]
  },
  {
   "cell_type": "code",
   "execution_count": 32,
   "id": "7e64add9-a9d1-4a8c-a41c-36ff3f2b8ae3",
   "metadata": {},
   "outputs": [
    {
     "name": "stdout",
     "output_type": "stream",
     "text": [
      "Initial stack\n",
      "['g', 'f', 'h']\n",
      "\n",
      "Elements popped from stack:\n",
      "h\n",
      "f\n",
      "g\n",
      "\n",
      "Stack after elements are popped:\n",
      "[]\n"
     ]
    }
   ],
   "source": [
    "# LIFO -> Last-In/First-Out\n",
    "# insert -> push; delete -> pop\n",
    "stack = []\n",
    "\n",
    "# append() function to push element in the stack\n",
    "stack.append('g')\n",
    "stack.append('f')\n",
    "stack.append('h')\n",
    "\n",
    "print('Initial stack')\n",
    "print(stack)\n",
    "\n",
    "# pop() function to pop element from stack in\n",
    "# LIFO order\n",
    "print('\\nElements popped from stack:')\n",
    "print(stack.pop())\n",
    "print(stack.pop())\n",
    "print(stack.pop())\n",
    "\n",
    "print('\\nStack after elements are popped:')\n",
    "print(stack)"
   ]
  },
  {
   "cell_type": "markdown",
   "id": "c803760f-44d7-404a-91c1-086bf6fb025c",
   "metadata": {},
   "source": [
    "**Queue**"
   ]
  },
  {
   "cell_type": "code",
   "execution_count": 33,
   "id": "986b2e52-83ca-4355-80ef-39e3bd5a302a",
   "metadata": {},
   "outputs": [
    {
     "name": "stdout",
     "output_type": "stream",
     "text": [
      "Initial queue\n",
      "['g', 'f', 'h']\n",
      "Elements dequeued from queue\n",
      "g\n",
      "f\n",
      "h\n",
      "Queue after removing elements\n",
      "[]\n"
     ]
    }
   ],
   "source": [
    "# FIFO -> First-In/First-Out\n",
    "# insert -> enqueue; delete -> dequeue\n",
    "queue = []\n",
    "\n",
    "# Adding elements to the queue\n",
    "queue.append('g')\n",
    "queue.append('f')\n",
    "queue.append('h')\n",
    "\n",
    "print(\"Initial queue\")\n",
    "print(queue)\n",
    "\n",
    "# Removing elements from the queue\n",
    "print(\"Elements dequeued from queue\")\n",
    "print(queue.pop(0))\n",
    "print(queue.pop(0))\n",
    "print(queue.pop(0))\n",
    "\n",
    "print(\"Queue after removing elements\")\n",
    "print(queue)"
   ]
  },
  {
   "cell_type": "markdown",
   "id": "8a1f7856-ad4e-43af-8508-62c297890c2e",
   "metadata": {},
   "source": [
    "**Linked List**"
   ]
  },
  {
   "cell_type": "code",
   "execution_count": 34,
   "id": "bac850cb-0a30-4ac1-ae0f-e63669a72f27",
   "metadata": {},
   "outputs": [
    {
     "name": "stdout",
     "output_type": "stream",
     "text": [
      "10 20 30 "
     ]
    }
   ],
   "source": [
    "# elements -> nodes\n",
    "# node contains data and refernce to the next node in the sequence\n",
    "# last node points to None\n",
    "# efficient insertions and deletions\n",
    "# Node class\n",
    "class Node:\n",
    "    def __init__(self, data):\n",
    "        self.data = data\n",
    "        self.next = None\n",
    "\n",
    "\n",
    "if __name__=='__main__':\n",
    "\n",
    "    # Create a linked list\n",
    "    # 10 -> 20 -> 30\n",
    "    head = Node(10)\n",
    "    head.next = Node(20)\n",
    "    head.next.next = Node(30)\n",
    "    \n",
    "    # Print the list\n",
    "    temp = head\n",
    "    while temp != None:\n",
    "        print(temp.data, end = \" \")\n",
    "        temp = temp.next"
   ]
  },
  {
   "cell_type": "markdown",
   "id": "dfed844e-f82e-4255-aa6e-4b4c1a6e196a",
   "metadata": {},
   "source": [
    "**Tree**"
   ]
  },
  {
   "cell_type": "code",
   "execution_count": 35,
   "id": "97e1ce62-46d1-4058-890c-964fe0f66c33",
   "metadata": {},
   "outputs": [
    {
     "name": "stdout",
     "output_type": "stream",
     "text": [
      "4 2 1 3 "
     ]
    }
   ],
   "source": [
    "# non-linear data structure, elements -> nodes\n",
    "# connected via edges\n",
    "# Structure of a Binary Tree Node\n",
    "class Node:\n",
    "    def __init__(self, v):\n",
    "        self.data = v\n",
    "        self.left = None\n",
    "        self.right = None\n",
    "        \n",
    "def printInorder(root):\n",
    "    if(root == None):\n",
    "        return\n",
    "    printInorder(root.left)\n",
    "    print(root.data, end = \" \")\n",
    "    printInorder(root.right)\n",
    "\n",
    "if __name__ == '__main__':\n",
    "    \n",
    "    # Construct Binary Tree of 4 nodes\n",
    "    root = Node(1)\n",
    "    root.left = Node(2)\n",
    "    root.right = Node(3)\n",
    "    root.left.left = Node(4)\n",
    "    \n",
    "    printInorder(root)"
   ]
  },
  {
   "cell_type": "markdown",
   "id": "3690631d-aa3e-4743-bae6-586eb84288b1",
   "metadata": {},
   "source": [
    "**Heap**"
   ]
  },
  {
   "cell_type": "code",
   "execution_count": 36,
   "id": "662d84a7-f734-4629-88b3-37445a2193e8",
   "metadata": {},
   "outputs": [
    {
     "name": "stdout",
     "output_type": "stream",
     "text": [
      "The created heap is: [1, 3, 9, 7, 5]\n",
      "The modified heap after push is: [1, 3, 4, 7, 5, 9]\n",
      "The smallest element is: 1\n"
     ]
    }
   ],
   "source": [
    "# a binary tree, priority queue\n",
    "# max heap -> binary tree where the value of each node is greater \n",
    "# than or equal to the values of its children\n",
    "# min heap -> binary tree where the value of each node is less \n",
    "# than or equal to the values of its children\n",
    "\n",
    "import heapq\n",
    "\n",
    "a = [5, 7, 9, 1, 3]\n",
    "\n",
    "# using heapify to convert list into heap\n",
    "heapq.heapify(a)\n",
    "\n",
    "# printing created heap\n",
    "print (\"The created heap is:\", a)\n",
    "\n",
    "# Push 4 into the heap\n",
    "heapq.heappush(a, 4)\n",
    "\n",
    "# printing modified heap\n",
    "print (\"The modified heap after push is:\", a)\n",
    "\n",
    "# using heappop() to pop smallest element\n",
    "print (\"The smallest element is:\", heapq.heappop(a))"
   ]
  },
  {
   "cell_type": "code",
   "execution_count": 37,
   "id": "1da6162c-3bc1-40ca-8ad0-85447d976312",
   "metadata": {},
   "outputs": [],
   "source": [
    "# Graphs\n",
    "# Dynamic Programming"
   ]
  },
  {
   "cell_type": "code",
   "execution_count": null,
   "id": "c021e647-ab34-4e42-bcf4-43ed5754c5eb",
   "metadata": {},
   "outputs": [],
   "source": []
  }
 ],
 "metadata": {
  "kernelspec": {
   "display_name": "Python 3 (ipykernel)",
   "language": "python",
   "name": "python3"
  },
  "language_info": {
   "codemirror_mode": {
    "name": "ipython",
    "version": 3
   },
   "file_extension": ".py",
   "mimetype": "text/x-python",
   "name": "python",
   "nbconvert_exporter": "python",
   "pygments_lexer": "ipython3",
   "version": "3.12.0"
  }
 },
 "nbformat": 4,
 "nbformat_minor": 5
}
