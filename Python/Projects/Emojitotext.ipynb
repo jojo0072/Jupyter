{
 "cells": [
  {
   "cell_type": "code",
   "execution_count": 2,
   "id": "44772d6b-39b8-4bc4-9345-1e281d73c3d3",
   "metadata": {},
   "outputs": [
    {
     "data": {
      "text/plain": [
       "{'😃': 'grinning face with big eyes', '🌟': 'glowing star', '👋': 'waving hand'}"
      ]
     },
     "execution_count": 2,
     "metadata": {},
     "output_type": "execute_result"
    }
   ],
   "source": [
    "import demoji\n",
    "text=\"\"\"🌟 Welcome to Emoji World! 🌟\n",
    "\n",
    "Hello there! 👋 Are you ready to explore the wonderful world of emojis? 😃 Let's get started!\n",
    "\"\"\"\n",
    "demoji.findall(text)"
   ]
  },
  {
   "cell_type": "code",
   "execution_count": null,
   "id": "b07db2b9-d4b7-48eb-b517-a8a95a4595da",
   "metadata": {},
   "outputs": [],
   "source": []
  }
 ],
 "metadata": {
  "kernelspec": {
   "display_name": "Python 3 (ipykernel)",
   "language": "python",
   "name": "python3"
  },
  "language_info": {
   "codemirror_mode": {
    "name": "ipython",
    "version": 3
   },
   "file_extension": ".py",
   "mimetype": "text/x-python",
   "name": "python",
   "nbconvert_exporter": "python",
   "pygments_lexer": "ipython3",
   "version": "3.12.0"
  }
 },
 "nbformat": 4,
 "nbformat_minor": 5
}
