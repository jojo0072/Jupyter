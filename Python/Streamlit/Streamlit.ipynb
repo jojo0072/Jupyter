{
 "cells": [
  {
   "cell_type": "markdown",
   "id": "e5cb8f74-aa79-4e6b-a94d-635387247839",
   "metadata": {},
   "source": [
    "# Streamlit Overview"
   ]
  },
  {
   "cell_type": "code",
   "execution_count": 1,
   "id": "50bde718-659b-4cef-afd5-facdd319aef0",
   "metadata": {},
   "outputs": [
    {
     "name": "stdout",
     "output_type": "stream",
     "text": [
      "Hey\n"
     ]
    }
   ],
   "source": [
    "#streamlit run my_app.py -> run a file\n",
    "# the advantages of Streamlit are that you don't have to know Javascript, CSS or HTML like for Django or Flask\n",
    "print(\"Hey\")"
   ]
  },
  {
   "cell_type": "markdown",
   "id": "6288798e-ebda-4955-94f1-be2a9dd923a3",
   "metadata": {},
   "source": [
    "**Simple Text**"
   ]
  },
  {
   "cell_type": "code",
   "execution_count": 7,
   "id": "3694d3cc-6892-46c5-b351-efa3510a448e",
   "metadata": {},
   "outputs": [
    {
     "name": "stdout",
     "output_type": "stream",
     "text": [
      "Overwriting my_app.py\n"
     ]
    }
   ],
   "source": [
    "%%writefile my_app.py\n",
    "import streamlit as st\n",
    "\n",
    "st.title(\"Title: Streamlit Application\") # title of webpage\n",
    "st.header(\"MyHeader\")\n",
    "st.subheader(\"MySubheader\")\n",
    "st.markdown(\"# MarkdownHeader 1\") # works with \"##\" and \"###\" smaller\n",
    "st.markdown(\"## MarkdownHeader 2\") \n",
    "st.markdown(\"### MarkdownHeader 3\") \n",
    "st.text(\"MyText\")\n",
    "st.write(range(0,20))\n",
    "# with write you can display normal text and code (what you can't do with st.text)"
   ]
  },
  {
   "cell_type": "markdown",
   "id": "bb969172-4023-4784-88a6-856027042544",
   "metadata": {},
   "source": [
    "**Success, Info, Warning, Error, Exception Messages**"
   ]
  },
  {
   "cell_type": "code",
   "execution_count": 6,
   "id": "f1412a69-c018-4494-add2-111a25e693f8",
   "metadata": {},
   "outputs": [
    {
     "name": "stdout",
     "output_type": "stream",
     "text": [
      "Overwriting my_app.py\n"
     ]
    }
   ],
   "source": [
    "%%writefile my_app.py\n",
    "import streamlit as st\n",
    "\n",
    "st.success(\"Success\")\n",
    "st.info(\"Information\")\n",
    "st.warning(\"Warning\")\n",
    "st.error(\"Error\")\n",
    "\n",
    "exp = ZeroDivisionError(\"Trying to divide by Zero\")\n",
    "st.exception(exp)"
   ]
  },
  {
   "cell_type": "markdown",
   "id": "60666cce-f821-429b-8d72-e54ef86f0d9c",
   "metadata": {},
   "source": [
    "**Display Images**"
   ]
  },
  {
   "cell_type": "code",
   "execution_count": 9,
   "id": "3f74eaad-d506-454d-a415-0604cfdce40f",
   "metadata": {},
   "outputs": [
    {
     "name": "stdout",
     "output_type": "stream",
     "text": [
      "Overwriting my_app.py\n"
     ]
    }
   ],
   "source": [
    "%%writefile my_app.py\n",
    "import streamlit as st\n",
    "\n",
    "from PIL import Image\n",
    "\n",
    "img=Image.open(\"C:\\\\Users\\\\Daniel Rabe\\\\circler.png\")\n",
    "\n",
    "st.image(img, width=180)               "
   ]
  },
  {
   "cell_type": "markdown",
   "id": "433a8f5e-35dc-47d4-9d9b-977870606443",
   "metadata": {},
   "source": [
    "**Checkbox**"
   ]
  },
  {
   "cell_type": "code",
   "execution_count": 10,
   "id": "012c76aa-31c9-4089-b200-9a1afe060daa",
   "metadata": {},
   "outputs": [
    {
     "name": "stdout",
     "output_type": "stream",
     "text": [
      "Overwriting my_app.py\n"
     ]
    }
   ],
   "source": [
    "%%writefile my_app.py\n",
    "import streamlit as st\n",
    "if st.checkbox(\"Show 'Something'\"):\n",
    "    st.text(\"Something\") # display text if checkbox is active\n",
    "    "
   ]
  },
  {
   "cell_type": "markdown",
   "id": "ee02b5ed-0fb6-463d-bf91-4b9c11969e90",
   "metadata": {},
   "source": [
    "**Radio Button**"
   ]
  },
  {
   "cell_type": "code",
   "execution_count": 13,
   "id": "18e89247-f4b0-4b1f-bd31-dc9fffa84d4e",
   "metadata": {},
   "outputs": [
    {
     "name": "stdout",
     "output_type": "stream",
     "text": [
      "Overwriting my_app.py\n"
     ]
    }
   ],
   "source": [
    "%%writefile my_app.py\n",
    "import streamlit as st\n",
    "\n",
    "status=st.radio(\"Who's the GOAT?: \", ('Cristiano Ronaldo', 'Lionel Messi')) # title, options for radio button\n",
    "if status=='Cristiano Ronaldo':\n",
    "    st.text(\"Correct!\")\n",
    "else:\n",
    "    st.text(\"Think again!\")"
   ]
  },
  {
   "cell_type": "markdown",
   "id": "2c0b2238-35cd-4618-a61c-f3a334e90f83",
   "metadata": {},
   "source": [
    "**Selection Box**"
   ]
  },
  {
   "cell_type": "code",
   "execution_count": null,
   "id": "b98bc047-b727-40e2-a3f4-c44ead928bb1",
   "metadata": {},
   "outputs": [],
   "source": [
    "%%writefile my_app.py\n",
    "import streamlit as st\n",
    "# first argument takes the titleof the selectionbox, second argument takes options\n",
    "hobby = st.selectbox(\"Hobbies: \",\n",
    "                     ['Dancing', 'Reading', 'Sports'])\n",
    "\n",
    "st.write(\"Your hobby is: \", hobby)"
   ]
  },
  {
   "cell_type": "markdown",
   "id": "134f2073-af19-4db5-bf39-1e7015f0078d",
   "metadata": {},
   "source": [
    "**Multi-Selectbox**"
   ]
  },
  {
   "cell_type": "code",
   "execution_count": 3,
   "id": "0bf041f5-9490-44d9-bfc3-f9e6e75698ec",
   "metadata": {},
   "outputs": [
    {
     "name": "stdout",
     "output_type": "stream",
     "text": [
      "Overwriting my_app.py\n"
     ]
    }
   ],
   "source": [
    "%%writefile my_app.py\n",
    "import streamlit as st\n",
    "# first argument takes the box title, second argument takes the options to show\n",
    "hobbies = st.multiselect(\"Hobbies: \",\n",
    "                         ['Gaming', 'Reading', 'Sports'])\n",
    "\n",
    "st.write(\"You selected\", len(hobbies), 'hobbies')\n",
    "for hobby in hobbies:\n",
    "    st.write(\"Selected hobby: \", hobby)"
   ]
  },
  {
   "cell_type": "markdown",
   "id": "4246c026-9532-4dfd-b721-4d54b2bf94bc",
   "metadata": {},
   "source": [
    "**Button**"
   ]
  },
  {
   "cell_type": "code",
   "execution_count": 5,
   "id": "c76339a6-2e6a-4369-b86d-350e976ba204",
   "metadata": {},
   "outputs": [
    {
     "name": "stdout",
     "output_type": "stream",
     "text": [
      "Overwriting my_app.py\n"
     ]
    }
   ],
   "source": [
    "%%writefile my_app.py\n",
    "import streamlit as st\n",
    "if st.button(\"Don't click me\"):\n",
    "    st.write(\"Don't follow everything blindly!\")"
   ]
  },
  {
   "cell_type": "markdown",
   "id": "2e56b095-a0a2-46d6-bbdf-9a7092620d80",
   "metadata": {},
   "source": [
    "**Text Input (Entry->tk)**"
   ]
  },
  {
   "cell_type": "code",
   "execution_count": 9,
   "id": "8b842b4c-270f-4776-893c-dd9c386df046",
   "metadata": {},
   "outputs": [
    {
     "name": "stdout",
     "output_type": "stream",
     "text": [
      "Overwriting my_app.py\n"
     ]
    }
   ],
   "source": [
    "%%writefile my_app.py\n",
    "import streamlit as st\n",
    "# save the input text in the variable 'name'\n",
    "# first argument shows the title of the text input box\n",
    "# second argument displays a default text inside the text input area\n",
    "name = st.text_input(\"Enter Your name\", \"Type Here ...\")\n",
    "if(st.button('Submit')):\n",
    "    result = name.title()\n",
    "    st.success(result)"
   ]
  },
  {
   "cell_type": "markdown",
   "id": "e71a26da-59c4-48a2-a23f-c93f51efe45e",
   "metadata": {},
   "source": [
    "**Slider**"
   ]
  },
  {
   "cell_type": "code",
   "execution_count": 10,
   "id": "54b9dd59-8a89-4c78-8230-4f8bd269d887",
   "metadata": {},
   "outputs": [
    {
     "name": "stdout",
     "output_type": "stream",
     "text": [
      "Overwriting my_app.py\n"
     ]
    }
   ],
   "source": [
    "%%writefile my_app.py\n",
    "import streamlit as st\n",
    "# first argument takes the title of the slider, \n",
    "# second argument takes the starting of the slider, last argument takes the end number\n",
    "level = st.slider(\"Select your age\", 1, 100)\n",
    "st.text(f'Your age: {level}')"
   ]
  },
  {
   "cell_type": "markdown",
   "id": "9f577be6-7c2a-4c4f-bc55-a25e6c3a3943",
   "metadata": {},
   "source": [
    "**Number Input**"
   ]
  },
  {
   "cell_type": "code",
   "execution_count": 1,
   "id": "7114fa05-c183-4f39-afe4-817892c10642",
   "metadata": {},
   "outputs": [
    {
     "name": "stdout",
     "output_type": "stream",
     "text": [
      "Overwriting my_app.py\n"
     ]
    }
   ],
   "source": [
    "%%writefile my_app.py\n",
    "import streamlit as st\n",
    "age=st.number_input(\"Age\")"
   ]
  },
  {
   "cell_type": "code",
   "execution_count": null,
   "id": "aa846f4d-f4cf-4c11-a950-9774f6fac891",
   "metadata": {},
   "outputs": [],
   "source": []
  },
  {
   "cell_type": "code",
   "execution_count": null,
   "id": "a77c5279-878e-47eb-a708-77985559dc7f",
   "metadata": {},
   "outputs": [],
   "source": []
  },
  {
   "cell_type": "code",
   "execution_count": 29,
   "id": "874d083c-714d-4836-a838-0694585d4215",
   "metadata": {},
   "outputs": [
    {
     "name": "stdout",
     "output_type": "stream",
     "text": [
      "Overwriting bmi_calc.py\n"
     ]
    }
   ],
   "source": [
    "%%writefile bmi_calc.py\n",
    "import streamlit as st\n",
    "import numpy as np\n",
    "import matplotlib.pyplot as plt\n",
    "\n",
    "\n",
    "def show_graph(height, weight): \n",
    "    fig, ax=plt.subplots()\n",
    "    x=np.array([1.0, 2.1])\n",
    "    \n",
    "    upper_limit=np.array([60*1**2, 60*2.1**2])\n",
    "    \n",
    "    y_adipositas3=np.array([40*1**2, 40*2.1**2]) # BMI=40\n",
    "    ax.plot(x, y_adipositas3, label=\"Adipositas III\", color=\"darkred\")\n",
    "    \n",
    "    ax.fill_between(x, upper_limit, y_adipositas3, color=\"darkred\", alpha=0.5)\n",
    "    \n",
    "    y_adipositas2=np.array([35*1**2, 35*2.1**2]) # BMI=35\n",
    "    ax.plot(x, y_adipositas2, label=\"Adipositas II\", color=\"red\")\n",
    "    \n",
    "    ax.fill_between(x, y_adipositas3, y_adipositas2, color=\"red\", alpha=0.5)\n",
    "    \n",
    "    y_adipositas1=np.array([30*1**2, 30*2.1**2]) # BMI=30\n",
    "    ax.plot(x, y_adipositas1, label=\"Adipositas I\", color=\"orange\")\n",
    "    \n",
    "    ax.fill_between(x, y_adipositas2, y_adipositas1, color=\"orange\", alpha=0.5)\n",
    "    \n",
    "    y_uebergewicht=np.array([25*1**2, 25*2.1**2]) # BMI=25\n",
    "    ax.plot(x, y_uebergewicht, label=\"Übergewicht\", color=\"yellow\")\n",
    "    \n",
    "    ax.fill_between(x, y_adipositas1, y_uebergewicht, color=\"yellow\", alpha=0.5)\n",
    "    \n",
    "    y_normalgewicht=np.array([18.5*1**2, 18.5*2.1**2]) # BMI=18.5\n",
    "    ax.plot(x, y_normalgewicht, label=\"Normalgewicht\", color=\"lime\")\n",
    "    \n",
    "    ax.fill_between(x, y_uebergewicht, y_normalgewicht, color=\"lime\", alpha=0.5)\n",
    "    \n",
    "    y_untergewicht1=np.array([17*1**2, 17*2.1**2]) # BMI=17\n",
    "    ax.plot(x, y_untergewicht1, label=\"Untergewicht I\", color=\"aqua\")\n",
    "    \n",
    "    ax.fill_between(x, y_normalgewicht, y_untergewicht1, color=\"aqua\", alpha=0.5)\n",
    "    \n",
    "    y_untergewicht2=np.array([16*1**2, 16*2.1**2]) # BMI=16\n",
    "    ax.plot(x, y_untergewicht2, label=\"Untergewicht II\", color=\"cornflowerblue\")\n",
    "    \n",
    "    ax.fill_between(x, y_untergewicht1, y_untergewicht2, color=\"cornflowerblue\", alpha=0.5)\n",
    "    \n",
    "    y_untergewicht3=np.array([0,0]) # BMI=0\n",
    "    ax.plot(x, y_untergewicht3, label=\"Untergewicht III\", color=\"darkblue\")\n",
    "    \n",
    "    ax.fill_between(x, y_untergewicht2, y_untergewicht3, color=\"darkblue\", alpha=0.5)\n",
    "    plt.grid()\n",
    "    plt.ylabel(\"Gewicht in kg\")                                          \n",
    "    plt.xlabel(\"Größe in m\")\n",
    "    plt.legend()  \n",
    "    ax.plot(height, weight, marker=\"o\", color=\"black\", markersize=3, label=\"Du\")\n",
    "    st.pyplot(fig)\n",
    "    \n",
    "borders={\"Adipositas III\": 40, \"Adipositas II\": 35, \"Adipositas I\": 30, \n",
    "         \"Übergewicht\": 25, \"Normalgewicht\": 18.5, \"Untergewicht I\": \n",
    "         17, \"Untergewicht II\": 16, \"Untergewicht III\": 0}\n",
    "\n",
    "st.header(\"BMI Calculator\")\n",
    "weight=st.slider(\"Wähle dein Gewicht (kg)\", 1, 160)\n",
    "height=st.slider(\"Wähle deine Größe (cm)\", 100, 210)\n",
    "if (st.button(\"Berechne BMI\")):\n",
    "    st.subheader(\"BMI Ergebnis\")\n",
    "    show_graph(height/100, weight)\n",
    "    bmi=weight/(height/100)**2\n",
    "    lower_weight=18.5*(height/100)**2\n",
    "    upper_weight=24.9*(height/100)**2\n",
    "    for k, v in borders.items():\n",
    "        if bmi>v:\n",
    "            state=k\n",
    "            break\n",
    "    st.write(f\"Dein BMI ist {round(bmi, 2)}.\")\n",
    "    st.write(f\"Du bist damit im folgendem Bereich: {state}.\")\n",
    "    st.write(f\"Das Normalgewicht für deine Größe ist {round(lower_weight, 2)}kg - {round(upper_weight, 2)}kg.\")"
   ]
  },
  {
   "cell_type": "code",
   "execution_count": null,
   "id": "3171b933-8470-4c45-991d-97492f8df8d6",
   "metadata": {},
   "outputs": [],
   "source": []
  },
  {
   "cell_type": "code",
   "execution_count": null,
   "id": "27753254-2248-4dea-b819-fd01acae2ec4",
   "metadata": {},
   "outputs": [],
   "source": []
  },
  {
   "cell_type": "code",
   "execution_count": 17,
   "id": "19e8d6c7-0f43-44af-8f46-c4c1cad6a2d9",
   "metadata": {},
   "outputs": [
    {
     "name": "stdout",
     "output_type": "stream",
     "text": [
      "Overwriting pomodoro.py\n"
     ]
    }
   ],
   "source": [
    "%%writefile pomodoro.py\n",
    "import streamlit as st\n",
    "import time\n",
    "\n",
    "st.header(\"Pomodoro Timer 🍅\")\n",
    "min_to_sec={\"25:00\":1500, \"5:00\": 300, \"15:00\": 900, \"new\":None}\n",
    "sub=\"25:00\"\n",
    "timer=st.subheader(sub)\n",
    "if \"state\" in globals() or \"state\" in locals():\n",
    "    st.write(\"hey\")\n",
    "    if state==\"Work\":\n",
    "        sub=\"25:00\"\n",
    "        timer=st.subheader(sub)\n",
    "    elif state==\"Short Break\":\n",
    "        sub=\"5:00\"\n",
    "        timer=st.subheader(sub)\n",
    "    elif state==\"Long Break\":\n",
    "        sub=\"15:00\"\n",
    "        timer=st.subheader(sub)\n",
    "    \n",
    "def timer_update(countdown): \n",
    "    global timer\n",
    "    start_time=time.time()\n",
    "    if countdown!=None:\n",
    "        while countdown>0:\n",
    "                minutes = countdown // 60\n",
    "                seconds = countdown % 60\n",
    "                timer=st.subheader(f\"{minutes:02d}:{seconds:02d}\", end=\"\\r\")\n",
    "                time.sleep(1)\n",
    "                countdown-=1\n",
    "                if pause_button:\n",
    "                    min_to_sec[\"new\"]=current\n",
    "                    break\n",
    "                elif reset_button:\n",
    "                    timer=st.subheader(sub)\n",
    "                    min_to_sec[\"new\"]=None\n",
    "\n",
    "c1, c2, c3 = st.columns(3)\n",
    "with c1:\n",
    "    start_button=st.button(\"Start\")\n",
    "with c2:\n",
    "    pause_button=st.button(\"Pause\")\n",
    "with c3:\n",
    "    reset_button=st.button(\"Reset\")\n",
    "if start_button and min_to_sec[\"new\"]==None:\n",
    "    timer_update(min_to_sec[sub])\n",
    "else:\n",
    "    timer_update(min_to_sec[\"new\"])\n",
    "    min_to_sec[\"new\"]=None    \n",
    "state=st.radio(\"State: \", (\"Work\", \"Short Break\", \"Long Break\")) \n",
    "print(\"Hey\")\n",
    "cycles=st.write(f\"Cycles completed: {2}✅\")               \n",
    "\n",
    "    \n"
   ]
  },
  {
   "cell_type": "code",
   "execution_count": null,
   "id": "8effc06e-488e-403b-9eb5-c88252621d93",
   "metadata": {},
   "outputs": [],
   "source": []
  },
  {
   "cell_type": "code",
   "execution_count": 3,
   "id": "edfd8de1-5162-47e4-8a1b-c749eda8516b",
   "metadata": {},
   "outputs": [
    {
     "name": "stdout",
     "output_type": "stream",
     "text": [
      "hey\n",
      "00:01"
     ]
    }
   ],
   "source": [
    "import time\n",
    "print(\"hey\")\n",
    "countdown=10\n",
    "start_time=time.time()\n",
    "while countdown>0:       \n",
    "    minutes = countdown // 60\n",
    "    seconds = countdown % 60\n",
    "    print(f\"{minutes:02d}:{seconds:02d}\", end=\"\\r\")\n",
    "    time.sleep(1)\n",
    "    countdown-=1"
   ]
  },
  {
   "cell_type": "code",
   "execution_count": null,
   "id": "b5ec184c-d08d-4850-a5d3-be3c8f26bad6",
   "metadata": {},
   "outputs": [],
   "source": []
  }
 ],
 "metadata": {
  "kernelspec": {
   "display_name": "Python 3 (ipykernel)",
   "language": "python",
   "name": "python3"
  },
  "language_info": {
   "codemirror_mode": {
    "name": "ipython",
    "version": 3
   },
   "file_extension": ".py",
   "mimetype": "text/x-python",
   "name": "python",
   "nbconvert_exporter": "python",
   "pygments_lexer": "ipython3",
   "version": "3.12.0"
  }
 },
 "nbformat": 4,
 "nbformat_minor": 5
}
