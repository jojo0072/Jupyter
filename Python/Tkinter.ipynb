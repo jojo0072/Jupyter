{
 "cells": [
  {
   "cell_type": "code",
   "execution_count": 3,
   "id": "b181f39c-c2c3-4c38-86ff-c36132eb458d",
   "metadata": {},
   "outputs": [],
   "source": [
    "import tkinter as tk"
   ]
  },
  {
   "cell_type": "markdown",
   "id": "9e75dc0c-dd6b-4d12-ac2b-d2c25f7c4aa6",
   "metadata": {},
   "source": [
    "**0. Essentials**"
   ]
  },
  {
   "cell_type": "code",
   "execution_count": 2,
   "id": "12ab1fc7-b7f3-4a4e-afc9-080853a7f002",
   "metadata": {},
   "outputs": [],
   "source": [
    "root=tk.Tk() # main window\n",
    "root.title(\"My Widget\")\n",
    "# geometry; widgets; pack, place, grid; widget callbacks etc.\n",
    "root.mainloop() # start Tkinter event loop"
   ]
  },
  {
   "cell_type": "markdown",
   "id": "baee8bd2-27b9-4b20-b552-5d33cd1b2109",
   "metadata": {},
   "source": [
    "**1. Label**"
   ]
  },
  {
   "cell_type": "code",
   "execution_count": 28,
   "id": "49f18689-d0dc-48da-92ae-fbfc92736991",
   "metadata": {},
   "outputs": [],
   "source": [
    "# Label(master, option) master is parent window(root)\n",
    "root=tk.Tk()\n",
    "root.title(\"Example\")\n",
    "var=tk.StringVar()\n",
    "var.set(\"Hello World\")\n",
    "label=tk.Label(root, \n",
    "               textvariable=var, # associated with StringVar() or text=\"\"\n",
    "               bg=\"red\", fg=\"yellow\",\n",
    "               font=(\"Helvetica\", 20, \"overstrike\"), # font_family, size, style (italic, underline, bold)\n",
    "               padx=10, pady=10, \n",
    "               cursor=\"hand1\") # spaces between left/right and top/bottom of the text\n",
    "# more arguments (underline=3, cursor=hand1, )\n",
    "label.pack(pady=10) # look at pack\n",
    "root.mainloop()"
   ]
  },
  {
   "cell_type": "markdown",
   "id": "a9b85881-9a65-4a95-97bf-a62deb7ca800",
   "metadata": {},
   "source": [
    "**2. Button**"
   ]
  },
  {
   "cell_type": "code",
   "execution_count": 30,
   "id": "9c29c81a-4c3d-4844-9b12-10317823215b",
   "metadata": {},
   "outputs": [
    {
     "name": "stdout",
     "output_type": "stream",
     "text": [
      "Button Clicked!\n"
     ]
    }
   ],
   "source": [
    "# Button(parent, options), input\n",
    "root=tk.Tk()\n",
    "root.title(\"Example\")\n",
    "button = tk.Button(root, \n",
    "                   text=\"Click Me\", \n",
    "                   command=print(\"Button Clicked!\"), # command can also be root.destroy() or function\n",
    "                   bg=\"blue\", \n",
    "                   fg=\"white\", \n",
    "                   font=(\"Arial\", 16), \n",
    "                   width=8, # width of button/label... in characters\n",
    "                   height=2, # height in lines\n",
    "                   padx=5, # spaces between left/right and top/bottom of the text\n",
    "                   pady=5)\n",
    "\n",
    "button.pack(pady=20)\n",
    "root.mainloop()"
   ]
  },
  {
   "cell_type": "markdown",
   "id": "61d9a04e-f193-4e4b-8fa5-f5228945c94c",
   "metadata": {},
   "source": [
    "**3. Entry**"
   ]
  },
  {
   "cell_type": "code",
   "execution_count": 31,
   "id": "4041fe6e-9ca3-4aff-bbe1-fdb6d57cf5e8",
   "metadata": {},
   "outputs": [
    {
     "name": "stdout",
     "output_type": "stream",
     "text": [
      "Name: jj\n",
      "Password: kk\n",
      "Name: ff\n",
      "Password: hhh\n"
     ]
    }
   ],
   "source": [
    "# Entry(parent, options)\n",
    "root = tk.Tk()\n",
    "root.title(\"First Tkinter Window\")\n",
    "name_var=tk.StringVar() # StringVar() enables to get the value in the widget to your Python code\n",
    "passw_var=tk.StringVar()\n",
    "def submit():\n",
    "    name=name_var.get() # retrieve current value in StringVar\n",
    "    password=passw_var.get()\n",
    "    \n",
    "    print(\"Name:\", name)\n",
    "    print(\"Password:\", password)\n",
    "    name_var.set(\"\") # update the value of StringVar to nothing, so you can use it again without overwriting StringVar everytime\n",
    "    passw_var.set(\"\")\n",
    "    \n",
    "name_label=tk.Label(root, text=\"Name:\",font=(\"Arial\", 20, \"bold\"))   # text if you have text directly and textvariable if you have a variable storing the text\n",
    "name_entry=tk.Entry(root, textvariable=name_var, font=(\"Arial\", 20, \"normal\"))\n",
    "passw_label=tk.Label(root, text=\"Password:\", font=(\"Arial\", 20, \"bold\"))\n",
    "passw_entry=tk.Entry(root, textvariable=passw_var, font=(\"Arial\", 20, \"normal\"), show=\"*\") # show puts character above input\n",
    "sub=tk.Button(root, text=\"Submit\", command=submit)\n",
    "\n",
    "name_label.grid(row=0, column=0)\n",
    "name_entry.grid(row=0, column=1)\n",
    "passw_label.grid(row=1, column=0)\n",
    "passw_entry.grid(row=1, column=1)\n",
    "sub.grid(row=2, column=1)\n",
    "\n",
    "root.mainloop()"
   ]
  },
  {
   "cell_type": "markdown",
   "id": "526557f5-1cc3-42d6-b657-11a5b5439e42",
   "metadata": {},
   "source": [
    "**4. Frame**"
   ]
  },
  {
   "cell_type": "code",
   "execution_count": 39,
   "id": "027192b5-f896-46cc-aa59-105bf0d72ba1",
   "metadata": {},
   "outputs": [],
   "source": [
    "# frame(master, options), organize widgets\n",
    "def create_widget(parent, widget_type, **options):\n",
    "    return widget_type(parent, **options)\n",
    "\n",
    "# Create the main window\n",
    "window = create_widget(None, tk.Tk)\n",
    "window.title(\"GUI Example\")\n",
    "\n",
    "# Create a Frame widget with all options\n",
    "frame = create_widget(window, tk.Frame, bg='lightblue', bd=3, cursor='hand2', height=100, \n",
    "                      highlightcolor='pink', highlightthickness=2, highlightbackground='red', \n",
    "                      relief=tk.RAISED, width=200) \n",
    "# bd=borderwidth around button, highlightcol?, highlightthickness=thickness of focus, \n",
    "# highlightbackground=border color of focus highlight, relief=type of border (FLAT, RAISED, SUNKEN, GROOVE, RIDGE)  \n",
    "frame.pack(padx=20, pady=20)\n",
    "\n",
    "# Create Label widget with all options\n",
    "label = create_widget(frame, tk.Label, text='GeeksForGeeks', font='50', bg='lightblue', bd=3, cursor='hand2',\n",
    "                      highlightcolor='red', highlightthickness=2, highlightbackground='black', \n",
    "                      relief=tk.RAISED)\n",
    "label.pack()\n",
    "\n",
    "# Create a frame for buttons\n",
    "button_frame = create_widget(window, tk.Frame, bg='lightblue', bd=3, cursor='hand2', height=50, \n",
    "                              highlightcolor='red', highlightthickness=2, highlightbackground='black', \n",
    "                              relief=tk.RAISED, width=200)\n",
    "button_frame.pack(pady=10)\n",
    "\n",
    "# Function to create buttons with all options\n",
    "def create_button(parent, text, fg):\n",
    "    return create_widget(parent, tk.Button, text=text, fg=fg, bg='lightblue', bd=3, cursor='hand2',\n",
    "                         highlightcolor='red', highlightthickness=2, highlightbackground='black', \n",
    "                         relief=tk.RAISED)\n",
    "\n",
    "# Create buttons\n",
    "buttons_info = [(\"Geeks1\", \"red\"), (\"Geeks2\", \"brown\"), (\"Geeks3\", \"blue\"), \n",
    "                (\"Geeks4\", \"green\"), (\"Geeks5\", \"green\"), (\"Geeks6\", \"green\")]\n",
    "\n",
    "for text, fg in buttons_info:\n",
    "    button = create_button(button_frame, text=text, fg=fg)\n",
    "    button.pack(side=tk.LEFT)\n",
    "\n",
    "# Run the Tkinter event loop\n",
    "window.mainloop()"
   ]
  },
  {
   "cell_type": "markdown",
   "id": "f8797318-a6e9-4c7c-973f-d44e7dcabf8b",
   "metadata": {},
   "source": [
    "**5. Checkbutton**"
   ]
  },
  {
   "cell_type": "code",
   "execution_count": 3,
   "id": "e1c2f6e7-8940-4d08-9116-ac02d5b64a72",
   "metadata": {
    "scrolled": true
   },
   "outputs": [
    {
     "name": "stdout",
     "output_type": "stream",
     "text": [
      "Checkbutton is selected\n"
     ]
    }
   ],
   "source": [
    "def on_button_toggle():\n",
    "    if var.get() == 1:\n",
    "        print(\"Checkbutton is selected\")\n",
    "    else:\n",
    "        print(\"Checkbutton is deselected\")\n",
    "\n",
    "root = tk.Tk()\n",
    "\n",
    "# Creating a Checkbutton\n",
    "var = tk.IntVar()\n",
    "checkbutton = tk.Checkbutton(root, text=\"Enable Feature\", variable=var, \n",
    "                             onvalue=1, offvalue=0, command=on_button_toggle)\n",
    "\n",
    "# Setting options for the Checkbutton\n",
    "checkbutton.config(bg=\"lightgrey\", fg=\"blue\", font=(\"Arial\", 12), \n",
    "                   selectcolor=\"green\", relief=\"raised\", padx=10, pady=5)\n",
    "\n",
    "# Adding a bitmap to the Checkbutton\n",
    "checkbutton.config(bitmap=\"info\", width=20, height=2)\n",
    "\n",
    "# Placing the Checkbutton in the window\n",
    "checkbutton.pack(padx=40, pady=40)\n",
    "\n",
    "# Calling methods on the Checkbutton\n",
    "checkbutton.flash() # colour flash\n",
    "\n",
    "root.mainloop()\n"
   ]
  },
  {
   "cell_type": "code",
   "execution_count": 17,
   "id": "32575846-f3ec-4901-8247-ad37d8678742",
   "metadata": {},
   "outputs": [],
   "source": [
    "root=tk.Tk()\n",
    "mine=tk.Checkbutton(root, text=\"Add custom logo\", relief=\"raised\")\n",
    "mine.pack()\n",
    "root.mainloop()"
   ]
  },
  {
   "cell_type": "markdown",
   "id": "19a265d9-7665-4552-96d7-8768e383c365",
   "metadata": {},
   "source": [
    "**6. Radiobutton**"
   ]
  },
  {
   "cell_type": "code",
   "execution_count": 4,
   "id": "6e4d826e-1371-4862-af85-b3d13671a08e",
   "metadata": {},
   "outputs": [],
   "source": [
    "master = tk.Tk()\n",
    "master.geometry(\"175x175\")\n",
    " \n",
    "# Tkinter string variable\n",
    "# able to store any string value\n",
    "v = tk.StringVar(master, \"1\")\n",
    " \n",
    "# Dictionary to create multiple buttons\n",
    "values = {\"RadioButton 1\" : \"1\",\n",
    "          \"RadioButton 2\" : \"2\",\n",
    "          \"RadioButton 3\" : \"3\",\n",
    "          \"RadioButton 4\" : \"4\",\n",
    "          \"RadioButton 5\" : \"5\"}\n",
    " \n",
    "# Loop is used to create multiple Radiobuttons\n",
    "# rather than creating each button separately\n",
    "for (text, value) in values.items():\n",
    "    tk.Radiobutton(master, text = text, variable = v, \n",
    "                value = value, indicator = 0,\n",
    "                background = \"light blue\").pack(fill=tk.X, ipady = 5)\n",
    " \n",
    "# Infinite loop can be terminated by\n",
    "# keyboard or mouse interrupt\n",
    "# or by any predefined function (destroy())\n",
    "master.mainloop()"
   ]
  },
  {
   "cell_type": "markdown",
   "id": "d11a9287-5775-452b-891c-d0604a245907",
   "metadata": {},
   "source": [
    "**7. Listbox**"
   ]
  },
  {
   "cell_type": "code",
   "execution_count": 3,
   "id": "1ad38f62-0f2e-492c-aeb4-5262ef7c2abb",
   "metadata": {},
   "outputs": [],
   "source": [
    "# create a root window.\n",
    "top = tk.Tk()\n",
    " \n",
    "# create listbox object\n",
    "listbox = tk.Listbox(top, height = 10, \n",
    "                  width = 15, \n",
    "                  bg = \"grey\",\n",
    "                  activestyle = 'dotbox', \n",
    "                  font = \"Helvetica\",\n",
    "                  fg = \"yellow\")\n",
    " \n",
    "# Define the size of the window.\n",
    "top.geometry(\"300x250\")  \n",
    " \n",
    "# Define a label for the list.  \n",
    "label = tk.Label(top, text = \" FOOD ITEMS\") \n",
    " \n",
    "# insert elements by their\n",
    "# index and names.\n",
    "listbox.insert(1, \"Nachos\")\n",
    "listbox.insert(2, \"Sandwich\")\n",
    "listbox.insert(3, \"Burger\")\n",
    "listbox.insert(4, \"Pizza\")\n",
    "listbox.insert(5, \"Burrito\")\n",
    " \n",
    "# pack the widgets\n",
    "label.pack()\n",
    "listbox.pack()\n",
    " \n",
    " \n",
    "# Display until User \n",
    "# exits themselves.\n",
    "top.mainloop()"
   ]
  },
  {
   "cell_type": "markdown",
   "id": "562cb8b2-3510-4fa8-b14f-79d4620d9e5d",
   "metadata": {},
   "source": [
    "**8. Scrollbar**"
   ]
  },
  {
   "cell_type": "code",
   "execution_count": 4,
   "id": "5cc0e2bd-e76c-46a6-903f-b3e59a1014ff",
   "metadata": {},
   "outputs": [],
   "source": [
    "from tkinter import *\n",
    "root = Tk() \n",
    "root.geometry(\"150x200\") \n",
    "   \n",
    "w = Label(root, text ='GeeksForGeeks', \n",
    "          font = \"50\")  \n",
    "  \n",
    "w.pack() \n",
    "   \n",
    "scroll_bar = tk.Scrollbar(root) \n",
    "  \n",
    "scroll_bar.pack( side = RIGHT, \n",
    "                fill = Y ) \n",
    "   \n",
    "mylist = Listbox(root,  \n",
    "                 yscrollcommand = scroll_bar.set ) \n",
    "   \n",
    "for line in range(1, 26): \n",
    "    mylist.insert(END, \"Geeks \" + str(line)) \n",
    "  \n",
    "mylist.pack( side = LEFT, fill = BOTH ) \n",
    "  \n",
    "scroll_bar.config( command = mylist.yview ) \n",
    "   \n",
    "root.mainloop() "
   ]
  },
  {
   "cell_type": "markdown",
   "id": "a1e3cdac-02c7-4f47-9800-576cf81f4fe8",
   "metadata": {},
   "source": [
    "**9. Menu**"
   ]
  },
  {
   "cell_type": "code",
   "execution_count": 9,
   "id": "f733b483-5c29-4cb2-b17e-8e5f7ddde73b",
   "metadata": {},
   "outputs": [],
   "source": [
    "root=tk.Tk()\n",
    "root.title(\"Menu Demo\")\n",
    "menubar=tk.Menu(root)\n",
    "file=tk.Menu(menubar, tearoff=0)\n",
    "menubar.add_cascade(label=\"File\", menu=file)\n",
    "file.add_command(label=\"New File\", command=None)\n",
    "file.add_separator()\n",
    "root.config(menu=menubar)\n",
    "root.mainloop()"
   ]
  },
  {
   "cell_type": "markdown",
   "id": "c25413a9-7cdf-4198-bb07-eb39845ee643",
   "metadata": {},
   "source": [
    "**10. Canvas**"
   ]
  },
  {
   "cell_type": "code",
   "execution_count": 4,
   "id": "33cdad8f-d842-4895-9a3f-2618e21dcb50",
   "metadata": {},
   "outputs": [],
   "source": [
    "from tkinter import *\n",
    " \n",
    " \n",
    "root = Tk()\n",
    " \n",
    "# Create Title\n",
    "root.title(  \"Paint App \")\n",
    " \n",
    "# specify size\n",
    "root.geometry(\"500x350\")\n",
    " \n",
    "# define function when  \n",
    "# mouse double click is enabled\n",
    "def paint( event ):\n",
    "    \n",
    "    # Co-ordinates.\n",
    "    x1, y1, x2, y2 = ( event.x - 3 ),( event.y - 3 ), ( event.x + 3 ),( event.y + 3 ) \n",
    "     \n",
    "    # Colour\n",
    "    Colour = \"#000fff000\"\n",
    "     \n",
    "    # specify type of display\n",
    "    w.create_line( x1, y1, x2, \n",
    "                  y2, fill = Colour )\n",
    " \n",
    " \n",
    "# create canvas widget.\n",
    "w = Canvas(root, width = 400, height = 250) \n",
    " \n",
    "# call function when double \n",
    "# click is enabled.\n",
    "w.bind( \"<B1-Motion>\", paint )\n",
    " \n",
    "# create label.\n",
    "l = Label( root, text = \"Double Click and Drag to draw.\" )\n",
    "l.pack()\n",
    "w.pack()\n",
    " \n",
    "mainloop()"
   ]
  },
  {
   "cell_type": "markdown",
   "id": "c7057696-8800-405b-b545-2de8ff067574",
   "metadata": {},
   "source": [
    "**11. Combobox**"
   ]
  },
  {
   "cell_type": "code",
   "execution_count": 92,
   "id": "6ebf8261-1149-48a0-b245-1370e8d8e809",
   "metadata": {},
   "outputs": [],
   "source": [
    "from tkinter import ttk \n",
    "# Creating tkinter window \n",
    "window = tk.Tk() \n",
    "window.title('Combobox') \n",
    "window.geometry('500x250') \n",
    "  \n",
    "# label text for title \n",
    "ttk.Label(window, text = \"GFG Combobox Widget\",  \n",
    "          background = 'green', foreground =\"white\",  \n",
    "          font = (\"Times New Roman\", 15)).grid(row = 0, column = 1) \n",
    "  \n",
    "# label \n",
    "ttk.Label(window, text = \"Select the Month :\", \n",
    "          font = (\"Times New Roman\", 10)).grid(column = 0, \n",
    "          row = 5, padx = 10, pady = 25) \n",
    "  \n",
    "# Combobox creation \n",
    "n = tk.StringVar() \n",
    "monthchoosen = ttk.Combobox(window, width = 27, textvariable = n) \n",
    "  \n",
    "# Adding combobox drop down list \n",
    "monthchoosen['values'] = (' January',  \n",
    "                          ' February', \n",
    "                          ' March', \n",
    "                          ' April', \n",
    "                          ' May', \n",
    "                          ' June', \n",
    "                          ' July', \n",
    "                          ' August', \n",
    "                          ' September', \n",
    "                          ' October', \n",
    "                          ' November', \n",
    "                          ' December') \n",
    "  \n",
    "monthchoosen.grid(column = 1, row = 5) \n",
    "monthchoosen.current() \n",
    "window.mainloop() "
   ]
  },
  {
   "cell_type": "markdown",
   "id": "9f0be77f-d980-46b6-82f5-10ea4ce0e23a",
   "metadata": {},
   "source": [
    "**12. Scale**"
   ]
  },
  {
   "cell_type": "code",
   "execution_count": null,
   "id": "955afc2e-9994-45ef-9dd7-784e7f42c47f",
   "metadata": {},
   "outputs": [],
   "source": []
  },
  {
   "cell_type": "markdown",
   "id": "c53cb4e3-12f8-4207-b6de-14e9f2d0aa6f",
   "metadata": {},
   "source": [
    "**13. Toplevel**"
   ]
  },
  {
   "cell_type": "code",
   "execution_count": 11,
   "id": "c43b0be3-d630-45da-826f-dc472198b61d",
   "metadata": {},
   "outputs": [],
   "source": [
    "root = Tk()\n",
    "root.geometry(\"200x300\")\n",
    "root.title(\"main\")\n",
    " \n",
    "l = Label(root, text = \"This is root window\")\n",
    " \n",
    "top = Toplevel()\n",
    "top.geometry(\"180x100\")\n",
    "top.title(\"toplevel\")\n",
    "l2 = Label(top, text = \"This is toplevel window\")\n",
    " \n",
    "l.pack()\n",
    "l2.pack()\n",
    " \n",
    "top.mainloop()"
   ]
  },
  {
   "cell_type": "markdown",
   "id": "487fd04c-6b0f-4c3b-a554-7c619870a6cb",
   "metadata": {},
   "source": [
    "**14. Message**"
   ]
  },
  {
   "cell_type": "code",
   "execution_count": 6,
   "id": "1df75483-a175-4fb8-96a5-fe1399eec508",
   "metadata": {},
   "outputs": [],
   "source": [
    "root = Tk() \n",
    "root.geometry(\"300x200\") \n",
    "  \n",
    "w = Label(root, text ='GeeksForGeeks', font = \"50\")  \n",
    "w.pack() \n",
    "    \n",
    "msg = Message( root, text = \"A computer science portal for geeks\")   \n",
    "    \n",
    "msg.pack()   \n",
    "  \n",
    "root.mainloop()  "
   ]
  },
  {
   "cell_type": "markdown",
   "id": "a1ff96d4-772b-4533-91fd-3ea5c1f0960b",
   "metadata": {},
   "source": [
    "**15. Menubutton**"
   ]
  },
  {
   "cell_type": "code",
   "execution_count": 10,
   "id": "c68c5612-6b20-419c-95f8-6b2d909eaef3",
   "metadata": {},
   "outputs": [],
   "source": [
    "root=tk.Tk()\n",
    "w=tk.Label(root, text=\"Menubutton Shit\", font=\"50\")\n",
    "w.pack()\n",
    "menubutton=tk.Menubutton(root, text=\"Menu\")\n",
    "menubutton.menu=tk.Menu(menubutton)\n",
    "menubutton[\"menu\"]= menubutton.menu   \n",
    "  \n",
    "var1 = IntVar() \n",
    "var2 = IntVar() \n",
    "var3 = IntVar() \n",
    "  \n",
    "menubutton.menu.add_checkbutton(label = \"Courses\", \n",
    "                                variable = var1)   \n",
    "menubutton.menu.add_checkbutton(label = \"Students\", \n",
    "                                variable = var2) \n",
    "menubutton.menu.add_checkbutton(label = \"Careers\", \n",
    "                                variable = var3) \n",
    "    \n",
    "menubutton.pack()   \n",
    "root.mainloop() \n",
    "# usecases?"
   ]
  },
  {
   "cell_type": "markdown",
   "id": "7eb0d0e9-2324-41e9-b719-b05b5b7021f1",
   "metadata": {},
   "source": [
    "**16. Progressbar**"
   ]
  },
  {
   "cell_type": "code",
   "execution_count": 2,
   "id": "fb20ec3b-677e-47ca-b18d-fdd38dd7d171",
   "metadata": {},
   "outputs": [],
   "source": [
    "# importing tkinter module \n",
    "from tkinter import * \n",
    "from tkinter.ttk import *\n",
    "\n",
    "# creating tkinter window \n",
    "root = Tk() \n",
    "\n",
    "# Progress bar widget \n",
    "progress = Progressbar(root, orient = HORIZONTAL, \n",
    "\t\t\tlength = 100, mode = 'determinate') \n",
    "\n",
    "# Function responsible for the updation \n",
    "# of the progress bar value \n",
    "def bar(): \n",
    "\timport time \n",
    "\tprogress['value'] = 20\n",
    "\troot.update_idletasks() \n",
    "\ttime.sleep(1) \n",
    "\n",
    "\tprogress['value'] = 40\n",
    "\troot.update_idletasks() \n",
    "\ttime.sleep(1) \n",
    "\n",
    "\tprogress['value'] = 50\n",
    "\troot.update_idletasks() \n",
    "\ttime.sleep(1) \n",
    "\n",
    "\tprogress['value'] = 60\n",
    "\troot.update_idletasks() \n",
    "\ttime.sleep(1) \n",
    "\n",
    "\tprogress['value'] = 80\n",
    "\troot.update_idletasks() \n",
    "\ttime.sleep(1) \n",
    "\tprogress['value'] = 100\n",
    "\n",
    "progress.pack(pady = 10) \n",
    "\n",
    "# This button will initialize \n",
    "# the progress bar \n",
    "Button(root, text = 'Start', command = bar).pack(pady = 10) \n",
    "\n",
    "# infinite loop \n",
    "mainloop() \n"
   ]
  },
  {
   "cell_type": "markdown",
   "id": "a608a676-1f98-4f77-9f96-75dbfe15cfd1",
   "metadata": {},
   "source": [
    "**17. Spinbox**"
   ]
  },
  {
   "cell_type": "code",
   "execution_count": 7,
   "id": "e39b917a-4b35-4819-860a-4ab873953eea",
   "metadata": {},
   "outputs": [
    {
     "name": "stdout",
     "output_type": "stream",
     "text": [
      "Value changed to: 100\n",
      "Value changed to: 99\n",
      "Value changed to: 98\n"
     ]
    }
   ],
   "source": [
    "def on_spinbox_change():\n",
    "    value = spinbox.get()\n",
    "    print(\"Value changed to:\", value)\n",
    "\n",
    "root = tk.Tk()\n",
    "root.geometry(\"300x200\")\n",
    "\n",
    "# Creating a Spinbox\n",
    "spinbox = tk.Spinbox(root, from_=0, to=100, width=10, relief=\"sunken\", repeatdelay=500, repeatinterval=100,\n",
    "                     font=(\"Arial\", 12), bg=\"lightgrey\", fg=\"blue\", command=on_spinbox_change)\n",
    "\n",
    "# Setting options for the Spinbox\n",
    "spinbox.config(state=\"normal\", cursor=\"hand2\", bd=3, justify=\"center\", wrap=True)\n",
    "\n",
    "# Placing the Spinbox in the window\n",
    "spinbox.pack(padx=20, pady=20)\n",
    "\n",
    "root.mainloop()"
   ]
  },
  {
   "cell_type": "markdown",
   "id": "3a948505-6b5d-455c-b012-7ae0d467c83a",
   "metadata": {},
   "source": [
    "**18. ScrolledText Widget**"
   ]
  },
  {
   "cell_type": "code",
   "execution_count": 13,
   "id": "6091f6e3-b0e3-4881-bede-967889acf47d",
   "metadata": {},
   "outputs": [
    {
     "ename": "IndentationError",
     "evalue": "unexpected indent (2522178871.py, line 26)",
     "output_type": "error",
     "traceback": [
      "\u001b[1;36m  Cell \u001b[1;32mIn[13], line 26\u001b[1;36m\u001b[0m\n\u001b[1;33m    OP\u001b[0m\n\u001b[1;37m    ^\u001b[0m\n\u001b[1;31mIndentationError\u001b[0m\u001b[1;31m:\u001b[0m unexpected indent\n"
     ]
    }
   ],
   "source": [
    "from tkinter import ttk \n",
    "from tkinter import scrolledtext \n",
    "  \n",
    "# Creating tkinter main window \n",
    "win = tk.Tk() \n",
    "win.title(\"ScrolledText Widget\") \n",
    "  \n",
    "# Title Label \n",
    "ttk.Label(win,  \n",
    "          text = \"ScrolledText Widget Example\", \n",
    "          font = (\"Times New Roman\", 15),  \n",
    "          background = 'green',  \n",
    "          foreground = \"white\").grid(column = 0, \n",
    "                                     row = 0) \n",
    "  \n",
    "# Creating scrolled text  \n",
    "# area widget \n",
    "text_area = scrolledtext.ScrolledText(win,  \n",
    "                                      wrap = tk.WORD,  \n",
    "                                      width = 40,  \n",
    "                                      height = 10,  \n",
    "                                      font = (\"Times New Roman\", \n",
    "                                              15)) \n",
    "  \n",
    "text_area.grid(column = 0, pady = 10, padx = 10) \n",
    "\n",
    "# Placing cursor in the text area \n",
    "text_area.focus() \n",
    "win.mainloop() "
   ]
  },
  {
   "cell_type": "markdown",
   "id": "3011f3ae-3518-4faa-a041-8eed17f7f2f9",
   "metadata": {},
   "source": [
    "**19. Treeview**"
   ]
  },
  {
   "cell_type": "code",
   "execution_count": 7,
   "id": "bf23a068-1139-46cc-bbe4-f7314d28cbef",
   "metadata": {},
   "outputs": [],
   "source": [
    "# Python program to illustrate the usage\n",
    "# of hierarchical treeview in python GUI\n",
    "# application using tkinter\n",
    "\n",
    "# Importing tkinter\n",
    "from tkinter import *\n",
    "\n",
    "# Importing ttk from tkinter\n",
    "from tkinter import ttk \n",
    "\n",
    "# Creating app window\n",
    "app = Tk() \n",
    "\n",
    "# Defining title of the app\n",
    "app.title(\"GUI Application of Python\") \n",
    "\n",
    "# Defining label of the app and calling a geometry\n",
    "# management method i.e, pack in order to organize\n",
    "# widgets in form of blocks before locating them \n",
    "# in the parent widget\n",
    "ttk.Label(app, text =\"Treeview(hierarchical)\").pack()\n",
    "\n",
    "# Creating treeview window\n",
    "treeview = ttk.Treeview(app) \n",
    "\n",
    "# Calling pack method on the treeview\n",
    "treeview.pack() \n",
    "\n",
    "# Inserting items to the treeview \n",
    "# Inserting parent\n",
    "treeview.insert('', '0', 'item1',   # empty str means parent item; 0 is index\n",
    "\t\t\t\ttext ='GeeksforGeeks') \n",
    "\n",
    "# Inserting child\n",
    "treeview.insert('', '1', 'item2', \n",
    "\t\t\t\ttext ='Computer Science')\n",
    "treeview.insert('', '2', 'item3', \n",
    "\t\t\t\ttext ='GATE papers')\n",
    "treeview.insert('', 'end', 'item4',\n",
    "\t\t\t\ttext ='Programming Languages')\n",
    "\n",
    "# Inserting more than one attribute of an item\n",
    "treeview.insert('item2', 'end', 'Algorithm', \n",
    "\t\t\t\ttext ='Algorithm') \n",
    "treeview.insert('item2', 'end', 'Data structure', \n",
    "\t\t\t\ttext ='Data structure') \n",
    "treeview.insert('item3', 'end', '2018 paper', \n",
    "\t\t\t\ttext ='2018 paper') \n",
    "treeview.insert('item3', 'end', '2019 paper', \n",
    "\t\t\t\ttext ='2019 paper')\n",
    "treeview.insert('item4', 'end', 'Python', \n",
    "\t\t\t\ttext ='Python')\n",
    "treeview.insert('item4', 'end', 'Java', \n",
    "\t\t\t\ttext ='Java')\n",
    "\n",
    "# Placing each child items in parent widget\n",
    "treeview.move('item2', 'item1', 'end') \n",
    "treeview.move('item3', 'item1', 'end')\n",
    "treeview.move('item4', 'item1', 'end')\n",
    "\n",
    "# Calling main() \n",
    "app.mainloop()\n"
   ]
  },
  {
   "cell_type": "markdown",
   "id": "1ab10b9b-52e4-4de5-86fb-a779608064e7",
   "metadata": {},
   "source": [
    "**20. MessageBox Widget**"
   ]
  },
  {
   "cell_type": "code",
   "execution_count": 12,
   "id": "11bea8fe-15b9-4261-893c-0beb994f4b2b",
   "metadata": {},
   "outputs": [],
   "source": [
    "from tkinter import *\n",
    "from tkinter import messagebox \n",
    "\n",
    "root = Tk() \n",
    "root.geometry(\"300x200\") \n",
    "\n",
    "w = Label(root, text ='GeeksForGeeks', font = \"50\") \n",
    "w.pack() \n",
    "\n",
    "messagebox.showinfo(\"showinfo\", \"Information\") \n",
    "\n",
    "messagebox.showwarning(\"showwarning\", \"Warning\") \n",
    "\n",
    "messagebox.showerror(\"showerror\", \"Error\") \n",
    "\n",
    "messagebox.askquestion(\"askquestion\", \"Are you sure?\") \n",
    "\n",
    "messagebox.askokcancel(\"askokcancel\", \"Want to continue?\") \n",
    "\n",
    "messagebox.askyesno(\"askyesno\", \"Find the value?\") \n",
    "\n",
    "\n",
    "messagebox.askretrycancel(\"askretrycancel\", \"Try again?\") \n",
    "\n",
    "root.mainloop() \n"
   ]
  },
  {
   "cell_type": "markdown",
   "id": "b8bd501f-dd30-4e7b-88ca-7046b79731c8",
   "metadata": {},
   "source": [
    "**21. Treeview scrollbar Widget**"
   ]
  },
  {
   "cell_type": "code",
   "execution_count": 1,
   "id": "589a9156-2590-49b7-9b4a-e959d157b24c",
   "metadata": {},
   "outputs": [],
   "source": [
    "from tkinter import *\n",
    "\n",
    "root = Tk()\n",
    "root.geometry(\"300x300\")\n",
    "root.title(\" Q&A \")\n",
    "\n",
    "def Take_input():\n",
    "    INPUT = inputtxt.get(\"1.0\", \"end-1c\") # first index\n",
    "    print(INPUT)\n",
    "    if(INPUT == \"120\"):\n",
    "        Output.insert(END, 'Correct') # end is end of line\n",
    "    else:\n",
    "        Output.insert(END, \"Wrong answer\")\n",
    "    \n",
    "l = Label(text = \"What is 24 * 5 ? \")\n",
    "inputtxt = Text(root, height = 10,\n",
    "                width = 25,\n",
    "                bg = \"light yellow\")\n",
    "\n",
    "Output = Text(root, height = 5, \n",
    "              width = 25, \n",
    "              bg = \"light cyan\")\n",
    "\n",
    "Display = Button(root, height = 2,\n",
    "                 width = 20, \n",
    "                 text =\"Show\",\n",
    "                 command = lambda:Take_input())\n",
    "\n",
    "l.pack()\n",
    "inputtxt.pack()\n",
    "Display.pack()\n",
    "Output.pack()\n",
    "\n",
    "mainloop()"
   ]
  },
  {
   "cell_type": "markdown",
   "id": "9f7594a4-6b62-4537-9782-3bfe6d395090",
   "metadata": {},
   "source": [
    "**22. Text**"
   ]
  },
  {
   "cell_type": "code",
   "execution_count": null,
   "id": "8d3b4672-4dac-4d42-abb8-f9fd741e2a31",
   "metadata": {},
   "outputs": [],
   "source": [
    "import tkinter as tk\n",
    "\n",
    "\n",
    "root = Tk()\n",
    "\n",
    "# specify size of window.\n",
    "root.geometry(\"250x170\")\n",
    "\n",
    "# Create text widget and specify size.\n",
    "T = Text(root, height = 5, width = 52)\n",
    "\n",
    "# Create label\n",
    "l = Label(root, text = \"Fact of the Day\")\n",
    "l.config(font =(\"Courier\", 14))\n",
    "\n",
    "Fact = \"\"\"A man can be arrested in\n",
    "Italy for wearing a skirt in public.\"\"\"\n",
    "\n",
    "# Create button for next text.\n",
    "b1 = Button(root, text = \"Next\", )\n",
    "\n",
    "# Create an Exit button.\n",
    "b2 = Button(root, text = \"Exit\",\n",
    "            command = root.destroy) \n",
    "\n",
    "l.pack()\n",
    "T.pack()\n",
    "b1.pack()\n",
    "b2.pack()\n",
    "\n",
    "# Insert The Fact.\n",
    "T.insert(tk.END, Fact)\n",
    "\n",
    "tk.mainloop()"
   ]
  },
  {
   "cell_type": "code",
   "execution_count": null,
   "id": "bce54d59-8244-4de2-8841-379bc0e8aefd",
   "metadata": {},
   "outputs": [],
   "source": []
  },
  {
   "cell_type": "markdown",
   "id": "517ec8a0-2870-43c4-ae86-668b70fe743b",
   "metadata": {},
   "source": [
    "**place() method**"
   ]
  },
  {
   "cell_type": "code",
   "execution_count": 5,
   "id": "a2a05bee-c6ea-4d21-a097-39a4afe8dea1",
   "metadata": {},
   "outputs": [],
   "source": [
    "root = tk.Tk()\n",
    "root.title(\"Tkinter Place Method Example\")\n",
    "root.geometry(\"400x300\")\n",
    "label = tk.Label(root, text=\"Hello, Tkinter!\", bg=\"yellow\")\n",
    "label.place(x=50, y=50)\n",
    "label2 = tk.Label(root, text=\"Relative Position\", bg=\"lightblue\")\n",
    "label2.place(relx=0.5, rely=0.5, anchor=tk.CENTER) # only anchor if place()\n",
    "button = tk.Button(root, text=\"Click Me!\")\n",
    "button.place(x=100, rely=0.8)\n",
    "root.mainloop()"
   ]
  },
  {
   "cell_type": "markdown",
   "id": "0d233052-de23-4902-81db-7dc9fdafb8c6",
   "metadata": {},
   "source": [
    "**grid() method**"
   ]
  },
  {
   "cell_type": "code",
   "execution_count": 3,
   "id": "18441779-4130-4fc1-ab29-57bd4f21cf67",
   "metadata": {},
   "outputs": [],
   "source": [
    "root = tk.Tk()\n",
    "root.title(\"Grid Example\")\n",
    "\n",
    "# Create labels\n",
    "label1 = tk.Label(root, text=\"Label 1\", bg=\"red\")\n",
    "label2 = tk.Label(root, text=\"Label 2\", bg=\"green\")\n",
    "label3 = tk.Label(root, text=\"Label 3\", bg=\"blue\")\n",
    "\n",
    "# Place labels using grid\n",
    "label1.grid(row=0, column=0, padx=10, pady=10) # padding \n",
    "label2.grid(row=0, column=1, padx=10, pady=10)\n",
    "label3.grid(row=1, column=0, columnspan=2, sticky=\"we\")\n",
    "\n",
    "root.mainloop()"
   ]
  },
  {
   "cell_type": "markdown",
   "id": "e6d140f8-5476-47f0-8e37-a4c59e827098",
   "metadata": {},
   "source": [
    "**pack() method**"
   ]
  },
  {
   "cell_type": "code",
   "execution_count": 6,
   "id": "b99ae4d2-fde2-4465-8686-3282650ef32b",
   "metadata": {},
   "outputs": [],
   "source": [
    "root = tk.Tk()\n",
    "\n",
    "label1 = tk.Label(root, text=\"Label 1\")\n",
    "label1.pack(side=tk.LEFT)\n",
    "\n",
    "label2 = tk.Label(root, text=\"Label 2\")\n",
    "label2.pack(side=tk.LEFT)\n",
    "\n",
    "root.mainloop()"
   ]
  },
  {
   "cell_type": "code",
   "execution_count": 7,
   "id": "14f098f9-48d8-4e8c-af0c-b613290c0f6c",
   "metadata": {},
   "outputs": [],
   "source": [
    "root = tk.Tk()\n",
    "root.geometry(\"300x200\")\n",
    "\n",
    "label_top = tk.Label(root, text=\"Top\", bg=\"red\")\n",
    "label_top.pack(side=tk.TOP, fill=tk.X)\n",
    "\n",
    "label_bottom = tk.Label(root, text=\"Bottom\", bg=\"blue\")\n",
    "label_bottom.pack(side=tk.BOTTOM, fill=tk.X)\n",
    "\n",
    "label_left = tk.Label(root, text=\"Left\", bg=\"green\")\n",
    "label_left.pack(side=tk.LEFT, fill=tk.Y)\n",
    "\n",
    "label_right = tk.Label(root, text=\"Right\", bg=\"yellow\")\n",
    "label_right.pack(side=tk.RIGHT, fill=tk.Y)\n",
    "\n",
    "label_center = tk.Label(root, text=\"Center\", bg=\"white\")\n",
    "label_center.pack(expand=True)\n",
    "\n",
    "root.mainloop()"
   ]
  },
  {
   "cell_type": "markdown",
   "id": "511c611e-8305-4c6c-a9ea-051ab700d241",
   "metadata": {},
   "source": [
    "**geometry() method**"
   ]
  },
  {
   "cell_type": "code",
   "execution_count": 6,
   "id": "8010b26a-2194-4811-aee9-da3d0f06824e",
   "metadata": {},
   "outputs": [],
   "source": [
    "root=tk.Tk()\n",
    "root.geometry(\"200x450\")\n",
    "root.mainloop()"
   ]
  },
  {
   "cell_type": "markdown",
   "id": "963c1b5d-be78-4e65-83a9-ee88e2b4a5e4",
   "metadata": {},
   "source": [
    "**config() method**"
   ]
  },
  {
   "cell_type": "code",
   "execution_count": 24,
   "id": "4200a4e6-69e3-4b10-957c-0ec9982ae138",
   "metadata": {},
   "outputs": [],
   "source": [
    "root = tk.Tk()\n",
    "label = tk.Label(root, text=\"Hello, Tkinter!\")\n",
    "label.config(font=(\"Arial\", 18), fg=\"blue\", bg=\"yellow\")\n",
    "label.pack()\n",
    "root.mainloop()"
   ]
  },
  {
   "cell_type": "markdown",
   "id": "a7d83908-dd5b-4d9b-8e14-e002ecdfcbec",
   "metadata": {},
   "source": [
    "**bind() method**"
   ]
  },
  {
   "cell_type": "code",
   "execution_count": 14,
   "id": "74175f50-68bd-4547-8690-aafba265c705",
   "metadata": {},
   "outputs": [],
   "source": [
    "# widget.bind(event, callback_function)\n",
    "def on_button_click(event):\n",
    "    print(\"Button clicked!\")\n",
    "\n",
    "root = tk.Tk()\n",
    "button = tk.Button(root, text=\"Click Me\")\n",
    "button.bind(\"<Button-1>\", on_button_click)  # Bind left mouse button click event (3 is right mouse)\n",
    "# \"<Return>\" -> Enter; \"<Key>\" -> Any key press; \"<Enter>\" -> Mouse enters widget; \"<Leave>\" -> Mouse leaves widget; \"<Double-Button-1>\" -> Double-click; \n",
    "button.pack()\n",
    "root.mainloop()"
   ]
  },
  {
   "cell_type": "code",
   "execution_count": null,
   "id": "39f40594-2955-4717-adcf-19d05b481d5b",
   "metadata": {},
   "outputs": [],
   "source": []
  },
  {
   "cell_type": "markdown",
   "id": "705d9c73-27a1-4626-89db-392f9e5b1a13",
   "metadata": {},
   "source": [
    "**Load image**"
   ]
  },
  {
   "cell_type": "code",
   "execution_count": null,
   "id": "653ed4b6-8ad5-49ef-a240-bd08d3dd99cf",
   "metadata": {},
   "outputs": [],
   "source": [
    "from tkinter import *\n",
    "\n",
    "# loading Python Imaging Library\n",
    "from PIL import ImageTk, Image\n",
    "\n",
    "# To get the dialog box to open when required \n",
    "from tkinter import filedialog\n",
    "\n",
    "\n",
    "# Create a window\n",
    "root = Tk()\n",
    "\n",
    "# Set Title as Image Loader\n",
    "root.title(\"Image Loader\")\n",
    "\n",
    "# Set the resolution of window\n",
    "root.geometry(\"550x300 + 300 + 150\")\n",
    "\n",
    "# Allow Window to be resizable\n",
    "root.resizable(width = True, height = True)\n",
    "\n",
    "# Create a button and place it into the window using grid layout\n",
    "btn = Button(root, text ='open image', command = open_img).grid(\n",
    "                                        row = 1, columnspan = 4)\n",
    "root.mainloop()\n",
    "\n",
    "\n",
    "\n",
    "def open_img():\n",
    "    # Select the Imagename  from a folder \n",
    "    x = openfilename()\n",
    "\n",
    "    # opens the image\n",
    "    img = Image.open(x)\n",
    "    \n",
    "    # resize the image and apply a high-quality down sampling filter\n",
    "    img = img.resize((250, 250), Image.LANCZOS)\n",
    "\n",
    "    # PhotoImage class is used to add image to widgets, icons etc\n",
    "    img = ImageTk.PhotoImage(img)\n",
    " \n",
    "    # create a label\n",
    "    panel = Label(root, image = img)\n",
    "    \n",
    "    # set the image as img \n",
    "    panel.image = img\n",
    "    panel.grid(row = 2)\n",
    "\n",
    "\n",
    "\n",
    "def openfilename():\n",
    "\n",
    "    # open file dialog box to select image\n",
    "    # The dialogue box has a title \"Open\"\n",
    "    filename = filedialog.askopenfilename(title ='\"pen')\n",
    "    return filename\n"
   ]
  },
  {
   "cell_type": "code",
   "execution_count": null,
   "id": "4c60fc76-9b3a-4202-be40-38c44417dcb2",
   "metadata": {},
   "outputs": [],
   "source": []
  },
  {
   "cell_type": "code",
   "execution_count": null,
   "id": "e3e58147-9ebc-4ec4-b2bf-4de65366b763",
   "metadata": {},
   "outputs": [],
   "source": []
  },
  {
   "cell_type": "code",
   "execution_count": null,
   "id": "f1d21c79-6647-4a4d-8971-4ec297af2281",
   "metadata": {},
   "outputs": [],
   "source": []
  },
  {
   "cell_type": "markdown",
   "id": "8c34550d-406a-4dc4-ba2c-24b04995c412",
   "metadata": {},
   "source": [
    "**Creative**"
   ]
  },
  {
   "cell_type": "code",
   "execution_count": 15,
   "id": "338a9ec2-d1a6-4f7c-9c88-b8bfc2b51477",
   "metadata": {},
   "outputs": [],
   "source": [
    "root=tk.Tk()\n",
    "root.title(\"My Tkinter\")\n",
    "root.config(bg=\"red\")\n",
    "root.geometry(\"200x400\")\n",
    "x=tk.Label(root, text=\"Text\")\n",
    "x.config(font=(\"Arial\", 20, \"normal\"), fg=\"blue\", bg=\"purple\")\n",
    "def com():\n",
    "    print(\"button clicked\")\n",
    "string=tk.StringVar()\n",
    "string.set(\"Click or die\")\n",
    "v=tk.StringVar()\n",
    "def submit():\n",
    "    value=v.get()\n",
    "    print(value)\n",
    "    v.set(\"\")\n",
    "y=tk.Button(root, textvariable=string, bg=\"white\", fg=\"black\", command=com, font=(\"Arial\", 20, \"bold\"))\n",
    "z=tk.Entry(root, textvariable=v, bg=\"white\", fg=\"black\",  font=(\"Arial\", 20, \"bold\"))\n",
    "a=tk.Button(root, text=\"Click to display text\", bg=\"indigo\", fg=\"black\", font=(\"Arial\", 20, \"bold\"), command=submit)\n",
    "x.grid(row=0, column=0)\n",
    "y.grid(row=1, column=0)\n",
    "z.grid(row=2, column=0)\n",
    "a.grid(row=3, column=0)\n",
    "root.mainloop()"
   ]
  },
  {
   "cell_type": "markdown",
   "id": "eff5b280-76cd-46c6-bf7a-9d22fe0d9ae3",
   "metadata": {},
   "source": [
    "**Locating grid**"
   ]
  },
  {
   "cell_type": "code",
   "execution_count": 16,
   "id": "ba767113-4168-4683-8634-26a130972c26",
   "metadata": {},
   "outputs": [
    {
     "name": "stdout",
     "output_type": "stream",
     "text": [
      "(0, 2)\n",
      "(3, 2)\n"
     ]
    }
   ],
   "source": [
    "root=tk.Tk()\n",
    "def click(event):\n",
    "    x=event.x_root - f.winfo_rootx()\n",
    "    y=event.y_root - f.winfo_rooty()\n",
    "    z=f.grid_location(x, y)\n",
    "    print(z)\n",
    "f=tk.Frame(root)\n",
    "f.pack()\n",
    "b = tk.Button(f, text = \"Button\")\n",
    "b.grid(row = 2, column = 3)\n",
    " \n",
    "c = tk.Button(f, text = \"Button2\")\n",
    "c.grid(row = 1, column = 0)\n",
    "\n",
    "root.bind(\"<Button-1>\", click)\n",
    "\n",
    "root.mainloop()"
   ]
  },
  {
   "cell_type": "code",
   "execution_count": null,
   "id": "166fb91f-92d0-40ac-bad8-bb79f4f70e3f",
   "metadata": {},
   "outputs": [],
   "source": []
  },
  {
   "cell_type": "markdown",
   "id": "b4f481d9-c774-4d78-a789-38d5a2c0fd90",
   "metadata": {},
   "source": [
    "**Calc**"
   ]
  },
  {
   "cell_type": "code",
   "execution_count": 17,
   "id": "5acdccd8-ad37-4a81-a330-bf15ceea87d7",
   "metadata": {},
   "outputs": [],
   "source": [
    "root=tk.Tk()\n",
    "root.title(\"calculator\")\n",
    "f=tk.Frame(root, bg=\"gray\", cursor=\"hand2\")\n",
    "f.pack()\n",
    "#text_i=tk.StringVar()\n",
    "inp=tk.Entry(f, bg=\"lightblue\", font=(\"Arial\", 15, \"bold\"))\n",
    "inp.grid(row=0, column=0, columnspan=4)\n",
    "symbols=[\"(\", \")\", \"%\", \"/\", \"1\", \"2\", \"3\", \"*\", \"4\", \"5\", \"6\", \"-\", \"7\", \"8\", \"9\", \"+\", \"C\", \"0\", \".\", \"=\"] # C, =\n",
    "\n",
    "def submit():\n",
    "    try:\n",
    "        res=eval(inp.get())\n",
    "        inp.delete(0, tk.END)\n",
    "        inp.insert(tk.END, str(res))\n",
    "    except:\n",
    "        inp.delete(0, tk.END)\n",
    "        inp.insert(tk.END, \"Error\")\n",
    "def create_widget(symbol, **options):\n",
    "    return tk.Button(f, text=symbol, fg=\"black\", bg=\"white\", font=(\"Arial\", 20, \"bold\"), **options)\n",
    "k=0\n",
    "for r in range(1, 6):\n",
    "    for c in range(0, 4):\n",
    "        if symbols[k]!=\"=\" and symbols[k]!= \"C\":\n",
    "            x=create_widget(symbols[k], command=lambda sym=symbols[k]:inp.insert(tk.END, sym))\n",
    "        elif symbols[k]==\"C\":\n",
    "            x=create_widget(symbols[k], command=lambda:inp.delete(0, tk.END))\n",
    "        else:\n",
    "            x=create_widget(symbols[k], command=submit)\n",
    "        x.grid(row=r, column=c, sticky=\"nsew\")\n",
    "        k+=1\n",
    "        \n",
    "            \n",
    "root.mainloop()"
   ]
  },
  {
   "cell_type": "markdown",
   "id": "bd455ad6-4f38-4a84-bf6d-3a4b7337fb5e",
   "metadata": {},
   "source": [
    "**AgeConv**"
   ]
  },
  {
   "cell_type": "code",
   "execution_count": null,
   "id": "9ac52458-d742-4149-964c-d9c17d5f429b",
   "metadata": {},
   "outputs": [],
   "source": [
    "from tkinter import ttk\n",
    "root=tk.Tk()\n",
    "root.title(\"Age Converter\")\n",
    "#root.geometry(\"350x200\")\n",
    "lab=tk.Label(root, text = \"Age Converter\",  \n",
    "          background = 'grey', foreground =\"white\",  \n",
    "          font = (\"Times New Roman\", 15))\n",
    "age=StringVar()\n",
    "def submit():\n",
    "    count=int(age.get())\n",
    "    conversion=select_conv.get()\n",
    "    result.config(text=calc(count, conversion))\n",
    "    result.grid(column=0, row=8, pady=10, padx=10, columnspan=3)\n",
    "def calc(years, selection):\n",
    "    months=years*12\n",
    "    weeks=years*52\n",
    "    days=months*30\n",
    "    if selection==\"Months\":\n",
    "        return f\"You are approximately {months} months old.\"\n",
    "    elif selection==\"Weeks\":\n",
    "        return f\"You are approximately {weeks} weeks old.\"\n",
    "    elif selection==\"Days\":\n",
    "        return f\"You are approximately {days} days old.\"    \n",
    "lab.grid(column=0, row=0, columnspan=3, pady=10, sticky=\"n\")\n",
    "ent=tk.Entry(root, textvariable=age, font = (\"Times New Roman\", 15)).grid(column=1, row=2, pady=10, padx=10)\n",
    "lab_age=tk.Label(root, text=\"Enter age: \", font = (\"Times New Roman\", 15, \"bold\")).grid(column=0, row=2, pady=10, padx=10)\n",
    "x=StringVar()\n",
    "select_conv=ttk.Combobox(textvariable=x, font = (\"Times New Roman\", 15))\n",
    "select_conv[\"values\"]=(\"Days\", \"Weeks\", \"Months\")\n",
    "select_conv.grid(column=0, row=4, columnspan=2, pady=10, padx=10)\n",
    "\n",
    "sub_button=tk.Button(root, text=\"Submit\", command=submit, font = (\"Times New Roman\", 15)).grid(column=0, row=6, columnspan=2, pady=10, padx=10)\n",
    "result=tk.Label(root, text=\"\", font = (\"Times New Roman\", 13))\n",
    "result.grid(column=0, row=8, pady=10, padx=10, columnspan=3)\n",
    "\n",
    "\n",
    "root.mainloop()"
   ]
  },
  {
   "cell_type": "code",
   "execution_count": null,
   "id": "141fce73-b24e-4bb5-8696-71e8970858ee",
   "metadata": {},
   "outputs": [],
   "source": []
  },
  {
   "cell_type": "code",
   "execution_count": null,
   "id": "cbc47018-7f00-48c3-b282-16613d3c2f05",
   "metadata": {},
   "outputs": [],
   "source": []
  }
 ],
 "metadata": {
  "kernelspec": {
   "display_name": "Python 3 (ipykernel)",
   "language": "python",
   "name": "python3"
  },
  "language_info": {
   "codemirror_mode": {
    "name": "ipython",
    "version": 3
   },
   "file_extension": ".py",
   "mimetype": "text/x-python",
   "name": "python",
   "nbconvert_exporter": "python",
   "pygments_lexer": "ipython3",
   "version": "3.12.0"
  }
 },
 "nbformat": 4,
 "nbformat_minor": 5
}
