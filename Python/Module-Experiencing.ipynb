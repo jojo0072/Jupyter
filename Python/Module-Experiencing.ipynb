{
 "cells": [
  {
   "cell_type": "markdown",
   "id": "5cc2e397-c2ed-4d57-a3fe-e78960020e67",
   "metadata": {},
   "source": [
    "NumPy, Matplotlib, Tkinter have seperate files"
   ]
  },
  {
   "cell_type": "markdown",
   "id": "44214a7c-a19d-4e42-82d0-eab008d9da0f",
   "metadata": {},
   "source": [
    "**1. Random**"
   ]
  },
  {
   "cell_type": "code",
   "execution_count": 1,
   "id": "2de2a8f1-125e-4fe3-bcbf-9b451b7f587b",
   "metadata": {},
   "outputs": [
    {
     "name": "stdout",
     "output_type": "stream",
     "text": [
      "9\n",
      "10\n",
      "5\n",
      "0.6659144130834028\n",
      "[2, 3, 7]\n",
      "[8, 3, 6, 1]\n"
     ]
    }
   ],
   "source": [
    "import random\n",
    "print(random.randrange(1, 11, 2)) # excludes end value, step argument\n",
    "\n",
    "print(random.randint(1, 10)) # includes start and end values\n",
    "\n",
    "print(random.choice([2, 3, 4, 5])) # random item from iterable\n",
    "\n",
    "print(random.random()) # float between 0 and 1\n",
    "\n",
    "print(random.sample([3, 7, 8, 2, 1], k=3)) # sample from iterbale with spedified len\n",
    "\n",
    "x=[3, 6, 1, 8] \n",
    "random.shuffle(x) # changes order (index) of iterable \n",
    "print(x)  "
   ]
  },
  {
   "cell_type": "markdown",
   "id": "0f34dbb2-91e4-43f8-8b59-4228d1b11709",
   "metadata": {},
   "source": [
    "**2. Math**"
   ]
  },
  {
   "cell_type": "code",
   "execution_count": 2,
   "id": "4b005471-beb4-498b-9ba6-f9e78d15cd3b",
   "metadata": {},
   "outputs": [
    {
     "name": "stdout",
     "output_type": "stream",
     "text": [
      "4.06201920231798\n",
      "2.718281828459045\n",
      "28.274333882308138\n",
      "2.718281828459045\n",
      "0.9589157234143065\n",
      "3.141592653589793\n",
      "90.06896539456541\n",
      "2.0\n",
      "1.9999539687959706\n"
     ]
    }
   ],
   "source": [
    "import math\n",
    "print(math.sqrt(16.5))\n",
    "print(math.exp(1))\n",
    "print(math.pi*math.pow(3,2))\n",
    "print(math.e)\n",
    "print(math.sin(360))\n",
    "print(math.radians(180))\n",
    "print(math.degrees(1.572))\n",
    "print(math.log(100, 10))\n",
    "print(math.pow(100, 0.15051))"
   ]
  },
  {
   "cell_type": "markdown",
   "id": "65d1c59e-ccd7-425d-97c2-b64b24849078",
   "metadata": {},
   "source": [
    "**3. Requests**"
   ]
  },
  {
   "cell_type": "code",
   "execution_count": null,
   "id": "a3d183cd-8f37-4209-bfb4-693ecb20d7c7",
   "metadata": {},
   "outputs": [],
   "source": [
    "# requests module is used to make HTTP requests to a given url, useful for fetching APIs\n",
    "import requests # get, post, put have same args\n",
    "\n",
    "response_jokes=requests.get(\"https://v2.jokeapi.dev/joke/Any?type=single\") # get method -> retrieve information from server, response object\n",
    "# theres alos a timeout arg, that will prevent getting stuck if server is slow \n",
    "# limited amount of data\n",
    "print(response_jokes.text) # raw response text (unicode)\n",
    "print(response_jokes.headers) # raw response text (unicode)\n",
    "data_jokes=response_jokes.json() # see response headers\n",
    "joke=data_jokes[\"joke\"] \n",
    "\n",
    "# example with params\n",
    "params = {\"name\": \"Michael\"}\n",
    "response = requests.get(url, params=params) # some url, could also make dict inside as an arg {key: value ...}; params specifies what is requested\n",
    "# Check if the request was successful (200)\n",
    "if response.status_code == 200:\n",
    "    data = response.json()\n",
    "    print(data)\n",
    "else:\n",
    "    print(\"Request failed with status code:\", response.status_code) \n",
    "response.raise_for_status() # alternative -> will raise error if request failed\n",
    "print(response.url)\n",
    "\n",
    "# larger amount of data\n",
    "r=requests.post(\"http://httpbin.org/post\", data={\"key\":\"value\"}) # post sends data to a server\n",
    "# parameter json instead of data\n",
    "print(r.json())\n",
    "    \n",
    "\n",
    "r=requests.put(\"http://httpbin.org/put\", data={\"key\":\"value\"}) # put updates data if resource exists/if not it creates resource at url \n",
    "print(r.json()) # diff to post: PUT is idempotent: same request multiple times = same effect (not duplicated)\n",
    "\n",
    "\n",
    "r=requests.delete(\"http://httpbin.org/delete\", data={\"key\":\"value\"}) # delete deletes specific resource"
   ]
  },
  {
   "cell_type": "markdown",
   "id": "b372da25-10e0-4097-b0e0-203f18e86e65",
   "metadata": {},
   "source": [
    "**CSV/Turtle/Pygame/BeautifulSoup/pyautogui/Django/Collections**"
   ]
  },
  {
   "cell_type": "markdown",
   "id": "a275b095-5d4d-4b47-9b2e-615c8d5f59ac",
   "metadata": {},
   "source": [
    "**4. Time**"
   ]
  },
  {
   "cell_type": "code",
   "execution_count": 1,
   "id": "89bab287-f331-43a9-bda6-18e5fd5e4a25",
   "metadata": {},
   "outputs": [
    {
     "name": "stdout",
     "output_type": "stream",
     "text": [
      "1747504112.6115508\n",
      "Local time: 2025-05-17 19:48:32\n",
      "A\n",
      "B\n",
      "Elapsed time: 2.7000001864507794e-05 seconds\n"
     ]
    }
   ],
   "source": [
    "import time\n",
    "#print(f\"Time{time.strftime('%M:%S', time.process_time())}\")\n",
    "now=time.time()\n",
    "print(now) # in seconds\n",
    "local_time=time.localtime(now)\n",
    "print(f\"Local time: {time.strftime('%Y-%m-%d %H:%M:%S', local_time)}\") # strftime formats time\n",
    "print(\"A\")\n",
    "time.sleep(2)\n",
    "print(\"B\")\n",
    "# measure elapsed time\n",
    "start_time=time.perf_counter()\n",
    "end_time=time.perf_counter()\n",
    "print(f\"Elapsed time: {end_time-start_time} seconds\")"
   ]
  },
  {
   "cell_type": "code",
   "execution_count": 3,
   "id": "4a979f34-d8f9-48a9-beda-60f12307b00c",
   "metadata": {},
   "outputs": [
    {
     "name": "stdout",
     "output_type": "stream",
     "text": [
      "Time: 00:00\n",
      "Time: 00:01\n",
      "Time: 00:02\n",
      "Time: 00:03\n",
      "Time: 00:04\n",
      "Time: 00:05\n",
      "Time: 00:06\n",
      "Time: 00:07\n",
      "Time: 00:08\n",
      "Time: 00:09\n",
      "Time: 00:10\n"
     ]
    }
   ],
   "source": [
    "start_time=time.perf_counter()\n",
    "while True:\n",
    "        elapsed = int(time.perf_counter() - start_time)\n",
    "        minutes = elapsed // 60\n",
    "        seconds = elapsed % 60\n",
    "        print(f\"\\rTime: {minutes:02d}:{seconds:02d}\")\n",
    "        time.sleep(1)\n",
    "        if seconds==10:\n",
    "            break"
   ]
  },
  {
   "cell_type": "markdown",
   "id": "19c5caac-0645-42ac-9556-576a6b944138",
   "metadata": {},
   "source": [
    "**5. String**"
   ]
  },
  {
   "cell_type": "code",
   "execution_count": 22,
   "id": "a1de3aff-95d5-42b8-b36e-ab0668a2f6ff",
   "metadata": {},
   "outputs": [
    {
     "name": "stdout",
     "output_type": "stream",
     "text": [
      "abcdefghijklmnopqrstuvwxyzABCDEFGHIJKLMNOPQRSTUVWXYZ\n",
      "abcdefghijklmnopqrstuvwxyz\n",
      "ABCDEFGHIJKLMNOPQRSTUVWXYZ\n",
      "0123456789\n",
      "!\"#$%&'()*+,-./:;<=>?@[\\]^_`{|}~\n",
      "0123456789abcdefghijklmnopqrstuvwxyzABCDEFGHIJKLMNOPQRSTUVWXYZ!\"#$%&'()*+,-./:;<=>?@[\\]^_`{|}~ \t\n",
      "\u000b",
      "\f",
      "\n",
      " \t\n",
      "\u000b",
      "\f",
      "\n"
     ]
    }
   ],
   "source": [
    "import string\n",
    "print(string.ascii_letters)\n",
    "print(string.ascii_lowercase)\n",
    "print(string.ascii_uppercase)\n",
    "print(string.digits)\n",
    "print(string.punctuation)\n",
    "print(string.printable) # any printable chars\n",
    "print(string.whitespace)"
   ]
  },
  {
   "cell_type": "markdown",
   "id": "1b76a240-5e8c-459a-952e-aafeb59a3800",
   "metadata": {},
   "source": [
    "**6. Os**"
   ]
  },
  {
   "cell_type": "code",
   "execution_count": 20,
   "id": "020fb5b1-d938-41a1-8bd5-11277be01ab4",
   "metadata": {},
   "outputs": [
    {
     "name": "stdout",
     "output_type": "stream",
     "text": [
      "hey\n",
      "end\n"
     ]
    }
   ],
   "source": [
    "import os # interaction with operating system: files, folders, paths, env\n",
    "\n",
    "# 1 directories\n",
    "print(os.getcwd())  # Get Current Working Directory (where Python is running)\n",
    "os.chdir(\"path/to/folder\")  # Change Directory (of python process)\n",
    "os.listdir()  # List files and folders in current directory or specify path\n",
    "\n",
    "# 2 creating/removing files/folders\n",
    "\n",
    "os.mkdir(\"new_folder\")  # Create one folder (throws err if path doesn't exist)\n",
    "os.makedirs(\"path/to/folder\")  # Create nested folders (will create folders at every path point)\n",
    "\n",
    "os.remove(\"file.txt\")  # Delete a file\n",
    "os.rmdir(\"empty_folder\")  # Remove one !empty! folder (otherwise error)\n",
    "os.removedirs(\"path/to/empty/folder\")  # Remove nested !empty! folders (will delete folders at every path point)\n",
    "\n",
    "# 3 path operations\n",
    "\n",
    "os.path.join(\"folder\", \"file.txt\")  # Safely join paths (cross-platform)\n",
    "os.path.exists(\"file.txt\")  # Check if file/folder exists\n",
    "os.path.getsize(\"file.txt\") # get size of file in bytes\n",
    "os.path.isfile(\"file.txt\")  # Check if it’s a file\n",
    "os.path.isdir(\"folder\")  # Check if it’s a directory\n",
    "\n",
    "# 4 enviroment variables (for API keys??), inv\n",
    "\n",
    "os.environ  # Dictionary of environment variables\n",
    "os.getenv(\"HOME\")  # Get specific env variable\n",
    "\n",
    "# 5 system commands\n",
    "\n",
    "os.system(\"ls\")  # Run a system command (example: list files)\n",
    "os.system(\"cls\") #  doesn't work because of jupyter, clears output\n",
    "\n",
    "# useful \n",
    "\n",
    "os.rename(\"old.txt\", \"new.txt\")  # Rename a file or folder\n",
    "os.stat(\"file.txt\")  # Get info (size, modification time, etc.)\n"
   ]
  },
  {
   "cell_type": "markdown",
   "id": "414f4416-d5f9-438d-be0f-ccef27f91859",
   "metadata": {},
   "source": [
    "4. \"Explain the thing with environment variables more detailed\"\n",
    "✅ Environment Variables = Hidden variables your OS or shell gives to your programs.\n",
    "\n",
    "Examples of environment variables:\n",
    "\n",
    "Your username\n",
    "\n",
    "Your home directory\n",
    "\n",
    "API keys\n",
    "\n",
    "Special config (like DEBUG=True)\n",
    "\n",
    "✅ You can read them in Python:\n",
    "\n",
    "python\n",
    "Code kopieren\n",
    "import os\n",
    "\n",
    "print(os.environ)  # See all env variables\n",
    "print(os.getenv(\"HOME\"))  # Get your home directory\n",
    "✅ You can also set them manually (outside Python):\n",
    "\n",
    "In Linux/macOS:\n",
    "\n",
    "bash\n",
    "Code kopieren\n",
    "export API_KEY=\"yourapikey\"\n",
    "In Windows:\n",
    "\n",
    "cmd\n",
    "Code kopieren\n",
    "set API_KEY=yourapikey\n",
    "✅ Then inside Python:\n",
    "\n",
    "python\n",
    "Code kopieren\n",
    "api_key = os.getenv(\"API_KEY\")\n",
    "🔵 Why Environment Variables Matter:\n",
    "\n",
    "Security: Store secrets (passwords, keys) outside your code.\n",
    "\n",
    "Portability: Move your app between computers without changing code.\n",
    "\n",
    "Configuration: Different settings for development vs production (example: DEBUG=True locally, DEBUG=False online)."
   ]
  },
  {
   "cell_type": "markdown",
   "id": "f67e9074-4952-413e-888e-670124985f1a",
   "metadata": {},
   "source": [
    "**7. Datetime**"
   ]
  },
  {
   "cell_type": "code",
   "execution_count": 23,
   "id": "846833ef-4a02-462a-9cab-994ae5be744b",
   "metadata": {},
   "outputs": [
    {
     "name": "stdout",
     "output_type": "stream",
     "text": [
      "2008-02-07\n",
      "2025-04-28\n",
      "2025 4 28\n",
      "0\n",
      "17:45:20\n",
      "17 45 20 0\n",
      "<class 'str'> 17:45:20\n",
      "2025-04-28 17:52:48.000321\n",
      "2025 4 28 17 \n",
      " 1745855568.000321\n",
      "2029-10-25 18:17:48\n",
      "2025-04-28 18:33:57.472499\n",
      "2026-02-22 18:33:57.472499\n",
      "Time Difference:  300 days, 0:00:00\n",
      "2025-04-28 18:33:57\n",
      "2024-10-12 15:20:51\n"
     ]
    }
   ],
   "source": [
    "import datetime\n",
    "\n",
    "# 1 date class\n",
    "my_birth=datetime.date(2008, 2, 7) # Y/M/D\n",
    "print(my_birth)\n",
    "\n",
    "today = datetime.date.today()\n",
    "print(today)\n",
    "print(today.year, today.month, today.day)\n",
    "\n",
    "date_str=datetime.date.isoformat(today) # convert date obj to str\n",
    "\n",
    "weekday=datetime.date.weekday(today)\n",
    "print(weekday)\n",
    "\n",
    "#??\n",
    "\n",
    "# 2 time class\n",
    "\n",
    "my_time=datetime.time(17, 45, 20) # h/min/sec , min one arg\n",
    "print(my_time)\n",
    "print(my_time.hour, my_time.minute, my_time.second, my_time.microsecond)\n",
    "time_str=datetime.time.isoformat(my_time) # convert time obj to str\n",
    "print(type(time_str), time_str)\n",
    "\n",
    "# 3 datetime class (combined elmnts)\n",
    "\n",
    "complete_date=datetime.datetime(2025, 4, 28, 17, 52, 48, 321)\n",
    "print(complete_date)\n",
    "print(complete_date.year, complete_date.month, complete_date.day, complete_date.hour, \"\\n\",complete_date.timestamp())\n",
    "\n",
    "date_time=datetime.datetime.fromtimestamp(1887639468) # creates date obj, num of seconds since 1/1/1970\n",
    "print(date_time)\n",
    "\n",
    "new_today=datetime.datetime.now()\n",
    "print(new_today)\n",
    "\n",
    "new_str=datetime.datetime.isoformat(new_today) #convert datetime obj to str\n",
    "\n",
    "# 4 timedelta class (differences in dates, date manipulation)\n",
    "# use datetime class here\n",
    "\n",
    "future_date=new_today + datetime.timedelta(days=300)\n",
    "print(future_date)\n",
    "\n",
    "print(\"Time Difference: \", str(future_date-new_today))\n",
    "\n",
    "\n",
    "# conversion (strftime and strptime)\n",
    "\n",
    "print(new_today.strftime(\"%Y-%m-%d %H:%M:%S\")) # convert datetime obj to string, same effect as .isoformat()\n",
    "\n",
    "datetime_obj=datetime.datetime.strptime(\"2024-10-12 15:20:51\", \"%Y-%m-%d %H:%M:%S\")\n",
    "print(datetime_obj) # create datetime obj from str"
   ]
  },
  {
   "cell_type": "markdown",
   "id": "b08a927e-3313-4e96-a97f-d03236892f16",
   "metadata": {},
   "source": [
    "**8. Json**"
   ]
  },
  {
   "cell_type": "code",
   "execution_count": 28,
   "id": "26fc8612-0b33-4728-93bd-9803f58b8c91",
   "metadata": {},
   "outputs": [
    {
     "name": "stdout",
     "output_type": "stream",
     "text": [
      "{'name': 'Michael', 'age': 25}\n",
      "<class 'dict'>\n"
     ]
    },
    {
     "data": {
      "text/plain": [
       "'\\nf=open(\"data.json\")\\ndata=json.load(f) # read json file as list of dicts\\nfor i in data:\\n    print(i)\\n\\n# most data types can be converted into json strings (in dict)\\ndictionary = {\\n    \"name\": \"sunil\",\\n    \"department\": \"HR\",\\n    \"Company\": \\'GFG\\'\\n}\\n# Serializing json\\njson_object = json.dumps(dictionary,indent=4) # obj, indent is number of units per indentation\\n# there is also a sort_keys parameter (False is default, could set True)\\nprint(json_object)\\n\\nwith open(\"some.json\", \"w\") as fil:\\n    json.dump(dictionary, file) # obj, file'"
      ]
     },
     "execution_count": 28,
     "metadata": {},
     "output_type": "execute_result"
    }
   ],
   "source": [
    "import json \n",
    "\"\"\"JavaScript Object Notation is a file to store and transfer structured \n",
    "data between server and web application\"\"\"\n",
    "\n",
    "json_string = '{\"name\": \"Michael\", \"age\": 25}'\n",
    "data = json.loads(json_string)  # Convert JSON string to Python dict\n",
    "print(data)\n",
    "print(type(data))\n",
    "\n",
    "f=open(\"data.json\")\n",
    "data=json.load(f) # read json file as list of dicts\n",
    "for i in data:\n",
    "    print(i)\n",
    "\n",
    "# most data types can be converted into json strings (in dict)p\n",
    "dictionary = {\n",
    "    \"name\": \"sunil\",\n",
    "    \"department\": \"HR\",\n",
    "    \"Company\": 'GFG'\n",
    "}\n",
    "# Serializing json\n",
    "json_object = json.dumps(dictionary,indent=4) # obj, indent is number of units per indentation\n",
    "# there is also a sort_keys parameter (False is default, could set True)\n",
    "print(json_object)\n",
    "\n",
    "with open(\"some.json\", \"w\") as fil:\n",
    "    json.dump(dictionary, file) # obj, file"
   ]
  },
  {
   "cell_type": "code",
   "execution_count": 29,
   "id": "ab4efd65-530b-44d2-baeb-ce3bd913273a",
   "metadata": {},
   "outputs": [
    {
     "name": "stdout",
     "output_type": "stream",
     "text": [
      "Joke saved successfully: My wife and I have reached the difficult decision that we do not want children.\n",
      "If anybody does, please just send me your contact details and we can drop them off tomorrow.\n"
     ]
    }
   ],
   "source": [
    "# Practical implementation of requests and json\n",
    "import requests\n",
    "import json\n",
    "\n",
    "# 1. Fetch a joke from the API\n",
    "response = requests.get(\"https://v2.jokeapi.dev/joke/Any?type=single\")\n",
    "response.raise_for_status()  # Make sure the request was successful\n",
    "\n",
    "# 2. Convert JSON response into Python dict\n",
    "data = response.json()\n",
    "\n",
    "# 3. Extract the joke text\n",
    "joke = data[\"joke\"]\n",
    "\n",
    "# 4. Save joke into a local JSON file\n",
    "joke_data = {\"joke\": joke}\n",
    "\n",
    "with open(\"joke_saved.json\", \"w\") as f:\n",
    "    json.dump(joke_data, f, indent=4)  # Pretty format with 4 spaces\n",
    "\n",
    "print(\"Joke saved successfully:\", joke)\n"
   ]
  },
  {
   "cell_type": "markdown",
   "id": "ce7009b2-8863-4945-b3c4-759262b8f28d",
   "metadata": {},
   "source": [
    "**9. Re (RegEx -> Regular Expressions)**"
   ]
  },
  {
   "cell_type": "code",
   "execution_count": 34,
   "id": "386861e4-3baa-4cc2-b185-f278a48bf249",
   "metadata": {},
   "outputs": [
    {
     "name": "stdout",
     "output_type": "stream",
     "text": [
      "123-456-7890\n",
      "['123-456-7890', '987-654-3210']\n",
      "My phone number is AAA-AAA-AAAA.\n"
     ]
    }
   ],
   "source": [
    "import re #tool for matching text based on a pattern\n",
    "# used for identifying/validating emails, URL, phone numbers ...\n",
    "\n",
    "text = \"My phone number is 123-456-7890.\"\n",
    "\n",
    "match = re.search(r\"\\d{3}-\\d{3}-\\d{4}\", text)  # Find pattern (regex, str) -> first match\n",
    "# doesn't return text\n",
    "if match:\n",
    "    print(match.group())\n",
    "\n",
    "text2 = \"My numbers: 123-456-7890, 987-654-3210.\"\n",
    "\n",
    "matches = re.findall(r\"\\d{3}-\\d{3}-\\d{4}\", text2) # find all matches\n",
    "print(matches) # returns all matches as a list\n",
    "\n",
    "new_text=re.sub(r\"\\d{3}-\\d{3}-\\d{4}\", \"AAA-AAA-AAAA\", text)\n",
    "print(new_text)\n",
    "\n",
    "text = \"apple,banana;orange|grape\"\n",
    "parts = re.split(r\"[;,\\|]\", text) # split with multiple delimeters\n",
    "print(parts)"
   ]
  },
  {
   "cell_type": "markdown",
   "id": "127b6110-201d-4c8e-a4b6-9cc910255b42",
   "metadata": {},
   "source": [
    "**10. Itertools**"
   ]
  },
  {
   "cell_type": "code",
   "execution_count": 51,
   "id": "c6d82957-7734-4b3a-a5a8-4d0e61e79a63",
   "metadata": {},
   "outputs": [
    {
     "name": "stdout",
     "output_type": "stream",
     "text": [
      "[(1, 2), (1, 3), (2, 3)]\n",
      "[(1, 2), (1, 3), (2, 1), (2, 3), (3, 1), (3, 2)]\n",
      "[(1, 1), (1, 2), (1, 3), (2, 1), (2, 2), (2, 3), (3, 1), (3, 2), (3, 3)]\n",
      "[1, 3, 6]\n",
      "[1, 2, 3, 4]\n",
      "A B A B A B A ['\\nHello', '\\nHello', '\\nHello']\n"
     ]
    }
   ],
   "source": [
    "import itertools\n",
    "\n",
    "items=[1, 2, 3]\n",
    "\n",
    "comb=itertools.combinations(items, 2) # group of 2 different items without order (combinations)\n",
    "print(list(comb))\n",
    "\n",
    "perm=itertools.permutations(items, 2) # group of 2 different times with different orders counted seperately\n",
    "print(list(perm))\n",
    "\n",
    "prod=itertools.product(items, repeat=2) # cartesian product (all possible combinations)\n",
    "print(list(prod)) \n",
    "\n",
    "acc=itertools.accumulate(items) # adds up items one by one\n",
    "print(list(acc)) \n",
    "\n",
    "a=[1,2]\n",
    "b=[3,4]\n",
    "chained=itertools.chain(a, b) # merges lists\n",
    "print(list(chained))\n",
    "\n",
    "cyclic=itertools.cycle([\"A\",\"B\"]) # infinite loop with items from list\n",
    "for i, num in zip(range(7), cyclic): # careful! Infinite loop potential\n",
    "    print(num, end=\" \")\n",
    "    \n",
    "repeated = itertools.repeat(\"Hello\", times=3)\n",
    "print(list(repeated))  # ['Hello', 'Hello', 'Hello']"
   ]
  },
  {
   "cell_type": "markdown",
   "id": "660e18dc-4a30-426f-b7e1-5672e8ce7381",
   "metadata": {},
   "source": [
    "Functools"
   ]
  },
  {
   "cell_type": "code",
   "execution_count": null,
   "id": "5a24f3d1-f7ce-4947-ba17-3a191d3acb18",
   "metadata": {},
   "outputs": [],
   "source": []
  },
  {
   "cell_type": "code",
   "execution_count": null,
   "id": "1f9f05ee-1699-42e2-8949-5893d8e934a1",
   "metadata": {},
   "outputs": [],
   "source": []
  },
  {
   "cell_type": "code",
   "execution_count": null,
   "id": "8a989287-9281-43a3-9a9c-c54e9c418a89",
   "metadata": {},
   "outputs": [],
   "source": []
  },
  {
   "cell_type": "code",
   "execution_count": null,
   "id": "98dac37f-2515-4b65-a0ec-8dea82562378",
   "metadata": {},
   "outputs": [],
   "source": []
  },
  {
   "cell_type": "code",
   "execution_count": null,
   "id": "cc8c6c55-0fbd-4e84-9ba8-01b5a6b207e1",
   "metadata": {},
   "outputs": [],
   "source": []
  },
  {
   "cell_type": "markdown",
   "id": "47d3f807-17d6-4467-abd3-168c17e516ec",
   "metadata": {},
   "source": [
    "**7. Pytubefix, pydub, moviepy**"
   ]
  },
  {
   "cell_type": "code",
   "execution_count": null,
   "id": "623d92da-9f98-4e0f-a322-9e24006bf3ca",
   "metadata": {},
   "outputs": [],
   "source": []
  },
  {
   "cell_type": "code",
   "execution_count": null,
   "id": "ac155dc7-442c-4056-af9b-d1872bd73a09",
   "metadata": {},
   "outputs": [],
   "source": [
    "from pytubefix import YouTube\n",
    "from pydub import AudioSegment\n",
    "from moviepy import VideoFileClip, AudioFileClip\n",
    "\n",
    "\n",
    "yt = YouTube(\"https://youtu.be/VM_Vt6TD-S0?si=Axj3BoW-esR4hMnr\") # works also with Playlists, but then with for loop\n",
    "print(\"Title:\", yt.title)\n",
    "print(\"Thumbnail:\", yt.thumbnail_url)\n",
    "\n",
    "file_type=[\"mp4\", \"mp3\"]\n",
    "choice=file_type[1]\n",
    "\n",
    "video_stream=yt.streams.filter(file_extension=\"mp4\", only_video=True).order_by(\"resolution\").desc()  # only_video -> audio version available\n",
    "resolutions=[stream.resolution for stream in video_stream[::2]]\n",
    "print(resolutions)\n",
    "#video=yt.streams.filter(res=, only_video=True).first()\n",
    "#video_file=video.download(filename=\"video.mp4\")\n",
    "\n",
    "audio_stream=yt.streams.filter(only_audio=True).first()\n",
    "audio_file=audio_stream.download(filename=\"audio.mp4\")\n",
    "\n",
    "audio=AudioSegment.from_file(audio_file)\n",
    "audio.export(\"audio.mp3\",format=\"mp3\")\n",
    "\n",
    "final_vid=VideoFileClip(video_file)\n",
    "final_audio=AudioFileClip(audio_file)\n",
    "final_vid=final_vid.set_audio(final_audio)\n",
    "\n",
    "final_vid.write_videofile(\"result.mp4\")\n",
    "\n",
    "\n",
    "# choose resolution\n",
    "# chose mp4, mp3"
   ]
  },
  {
   "cell_type": "markdown",
   "id": "da841eb1-4b2e-4774-b6fb-bb7fd9e0fc45",
   "metadata": {},
   "source": [
    "**8. qrcode x PIL**"
   ]
  },
  {
   "cell_type": "code",
   "execution_count": 8,
   "id": "78f0e10c-fbcf-44d7-8e13-8569008fc6c3",
   "metadata": {},
   "outputs": [
    {
     "name": "stdout",
     "output_type": "stream",
     "text": [
      "(290, 290)\n"
     ]
    }
   ],
   "source": [
    "from PIL import Image\n",
    "import qrcode\n",
    "# really simplistic, cant change much\n",
    "qr=qrcode.make(\"Moin\")\n",
    "k=qr.save(\"image.png\")\n",
    "k=Image.open(\"image.png\")\n",
    "print(k.size)\n",
    "k.show()"
   ]
  },
  {
   "cell_type": "code",
   "execution_count": 31,
   "id": "da88d0b9-3b52-401f-9192-fa5fbf2e06cc",
   "metadata": {},
   "outputs": [],
   "source": [
    "import qrcode\n",
    "qr = qrcode.QRCode(version=20) # change advanced settings, tuple; version (size from 1-40)\n",
    "qr.add_data('This is a QR code.') # add the data the qr code should display\n",
    "qr.make(fit=True) # optimize size proportions\n",
    "img = qr.make_image(fill_color=\"black\", back_color=\"lightblue\") # change colors\n",
    "img.save('qr1.png') # save the qr code\n",
    "# do max 20"
   ]
  },
  {
   "cell_type": "markdown",
   "id": "3ce6f6ca-8a65-41e3-96e8-bf1f3aefd229",
   "metadata": {},
   "source": [
    "1. rembg.remove() removes bg of image\n",
    "2. re.split() splits with multiple seperators\n",
    "3. imghdr.what(file) returns file type"
   ]
  },
  {
   "cell_type": "markdown",
   "id": "b3197a47-2f8e-4e04-bf03-d54980cdb5dd",
   "metadata": {},
   "source": [
    "Pillow.Image: putalpha()-> transparency, open, save, show, new, paste"
   ]
  },
  {
   "cell_type": "code",
   "execution_count": null,
   "id": "2aa588be-46ec-42c9-8d6e-91c72e3ffdf2",
   "metadata": {},
   "outputs": [],
   "source": [
    "from PIL import Image\n",
    "import qrcode\n",
    "from rembg import remove\n",
    "import os\n",
    "\n",
    "qr = qrcode.QRCode(version=20) # change advanced settings, tuple; version (size from 1-40)\n",
    "qr.add_data('Du dummer Hund') # add the data the qr code should new\n",
    "qr.make(fit=True) # optimize size proportions\n",
    "code = qr.make_image(back_color=\"green\") # change colors\n",
    "code.save('qr1.png') # save the qr code\n",
    "# do max 20\n",
    "\n",
    "pil_qr=Image.open(\"qr1.png\")\n",
    "print(pil_qr.size)# tuple with width, height of qrcode\n",
    "img=Image.open(r\"D:\\Daniel Rabe\\Downloads\\apple.png\").convert(\"RGBA\")\n",
    "original_size=tuple(img.size) # original size of logo as tuple\n",
    "#print(original_size)\n",
    "img.show() # show original logo\n",
    "resized_dim=int(pil_qr.size[0]*0.25) # adapted size of logo on top of qr\n",
    "print(resized_dim)\n",
    "#img.putalpha(200)\n",
    "#img.show()\n",
    "img=remove(img) # remove bg of logo\n",
    "img.show()\n",
    "img=img.resize((int(pil_qr.size[0]*0.2), int((pil_qr.size[0]*0.2)*original_size[1]/original_size[0]))) # resize logo with same proportions, image filter\n",
    "img.save(\"D:\\\\Daniel Rabe\\\\Downloads\\\\newlogo.png\") # save changed logo\n",
    "new=Image.open(\"D:\\\\Daniel Rabe\\\\Downloads\\\\newlogo.png\")\n",
    "new.show()\n",
    "\n",
    "logo_size=tuple(new.size)\n",
    "\n",
    "bg=Image.new(\"RGB\", (resized_dim, resized_dim), (255,255,255))\n",
    "pos_bg=((resized_dim-logo_size[0])//2, (resized_dim-logo_size[1])//2)\n",
    "bg.paste(new, pos_bg, mask=new)\n",
    "bg.show()\n",
    "\n",
    "#mask=Image.new(\"L\", bg.size, 255)\n",
    "#bg.putalpha(mask.filter(ImageFilter.GaussianBlur(radius=8)))\n",
    "\n",
    "position=((pil_qr.size[0]-resized_dim)//2,\n",
    "          (pil_qr.size[1]-resized_dim)//2) # determine position of logo in qr code\n",
    "print(\"Position1\", position[0], \"Position2\", position[1])\n",
    "\n",
    "bg=bg.convert(\"RGBA\")\n",
    "bg.save(\"D:\\\\Daniel Rabe\\\\Downloads\\\\newlogo.png\")\n",
    "bg.show()\n",
    "\n",
    "pil_qr=pil_qr.convert(\"RGBA\")\n",
    "pil_qr.save(\"qr1.png\")\n",
    "\n",
    "print(resized_dim, \"\\n\",qr_size)\n",
    "pil_qr.paste(bg, position, mask=bg) # merge logo and qr\n",
    "pil_qr.save(\"result.png\")\n",
    "pil_qr.show()"
   ]
  },
  {
   "cell_type": "code",
   "execution_count": null,
   "id": "21e49506-237c-46b4-95bd-9eefb7cd704b",
   "metadata": {},
   "outputs": [],
   "source": []
  },
  {
   "cell_type": "code",
   "execution_count": null,
   "id": "8bfeaa1d-5fde-41c0-9475-84b8507c5325",
   "metadata": {},
   "outputs": [],
   "source": [
    "import shutil\n",
    "shutil.rmtree(\"folder_name\")  # deletes folder + everything inside\n"
   ]
  }
 ],
 "metadata": {
  "kernelspec": {
   "display_name": "Python 3 (ipykernel)",
   "language": "python",
   "name": "python3"
  },
  "language_info": {
   "codemirror_mode": {
    "name": "ipython",
    "version": 3
   },
   "file_extension": ".py",
   "mimetype": "text/x-python",
   "name": "python",
   "nbconvert_exporter": "python",
   "pygments_lexer": "ipython3",
   "version": "3.12.0"
  }
 },
 "nbformat": 4,
 "nbformat_minor": 5
}
